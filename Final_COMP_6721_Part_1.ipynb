{
 "cells": [
  {
   "cell_type": "markdown",
   "source": [
    "<h1>AI Face Mask Detector, Project Assignment Part-I.</h1>\n",
    "<h5>COMP 6721 Applied Artificial Intelligence</h5>\n",
    "<ul>\n",
    "<li>40155790 - Sivakumaran Malli Janardhanan</li>\n",
    "<li> - Saghana Mahesh</li>\n",
    "<li>40163063 - Shubhang Khattar</li>\n",
    "</ul>\n",
    "\n",
    "<hr>\n",
    "<p>Goal is to to develop a Deep Learning Convolutional Neural Network (CNN) using PyTorch and train it to recognize five different classes:</p>\n",
    "<ol>\n",
    "<li>Person without a face mask</li>\n",
    "<li>Person with a cloth face mask</li>\n",
    "<li>Person with a surgical mask</li>\n",
    "<li>Person with a N95 mask</li>\n",
    "<li>Person with a N95 mask that has a valve.</li>\n",
    "</ol>"
   ],
   "metadata": {
    "collapsed": false
   }
  },
  {
   "cell_type": "markdown",
   "source": [
    "<h5> Importing packages </h5>\n",
    "<p> All packages to be imported will be declared all together to keep code clean </p>\n"
   ],
   "metadata": {
    "collapsed": false
   }
  },
  {
   "cell_type": "code",
   "execution_count": 2,
   "metadata": {
    "collapsed": true
   },
   "outputs": [],
   "source": [
    "import torch\n",
    "import torchvision.transforms as transforms\n",
    "import torch.nn as nn\n",
    "import torch.nn.functional as F\n",
    "from torchvision.datasets import ImageFolder\n",
    "from torch.utils.data import DataLoader\n",
    "import math\n",
    "from tqdm.notebook import tqdm_notebook\n",
    "import matplotlib.pyplot as plt\n",
    "from sklearn.metrics import ConfusionMatrixDisplay, confusion_matrix , classification_report"
   ]
  },
  {
   "cell_type": "markdown",
   "source": [
    "<h5>Constants Declaration</h5>\n",
    "<p> All Constants used below in the project will be declared here.</p>\n",
    "<p> learning rate = 0.01 </p>\n",
    "<p> Number of epochs = 20 </p>"
   ],
   "metadata": {
    "collapsed": false
   }
  },
  {
   "cell_type": "code",
   "execution_count": 1,
   "outputs": [],
   "source": [
    "dataSet_Path = 'Project_Dataset_2/'\n",
    "learning_rate = 0.01\n",
    "epochs = 30\n",
    "use_saved_model = False"
   ],
   "metadata": {
    "collapsed": false,
    "pycharm": {
     "name": "#%%\n"
    }
   }
  },
  {
   "cell_type": "markdown",
   "source": [
    "<h5> Data loading </h5>\n",
    "<p> The data set for this project has been compiled from various sources </p>\n",
    "\n",
    "1. https://www.kaggle.com/omkargurav/face-mask-dataset\n",
    "2. https://www.kaggle.com/prithwirajmitra/covid-face-mask-detection-dataset\n",
    "3. https://www.kaggle.com/sumansid/facemask-dataset\n",
    "4. https://www.kaggle.com/ashishjangra27/face-mask-12k-images-dataset\n",
    "5. https://www.kaggle.com/omkargurav/face-mask-dataset\n",
    "6. https://humansintheloop.org/resources/datasets/medical-mask-dataset/\n",
    "7. https://www.shutterstock.com/search/ffp2?number_of_people=1&mreleased=true\n",
    "8. https://www.gettyimages.ca/photos/ffp2-mask?assettype=image&sort=mostpopular&\n",
    "\n",
    "We have the following number of images\n",
    "Cloth_Mask - 435  images\n",
    "N95 - 402  images\n",
    "N95_With_Valve - 402  images\n",
    "No_Mask - 410  images\n",
    "Surgical - 420  images\n",
    "\n",
    "We have utilised 20% of the dataset for testing. In the remaining dataset, 80% is used for training and 20% is used for validation."
   ],
   "metadata": {
    "collapsed": false
   }
  },
  {
   "cell_type": "code",
   "execution_count": 4,
   "outputs": [],
   "source": [
    "def data_loader(path,batch,test_data_index,validation_data_index):\n",
    "\n",
    "    torch.manual_seed(0)\n",
    "    transformer = transforms.Compose([transforms.Resize((128,128)), transforms.ToTensor(), transforms.Normalize(mean=[0.485, 0.456, 0.406],std=[0.225, 0.225, 0.225])])\n",
    "\n",
    "    all_data = ImageFolder(root=path, transform=transformer)\n",
    "\n",
    "    class_labels_dict = {}\n",
    "    class_names = all_data.classes\n",
    "    label_count = 0\n",
    "    for label_name in all_data.classes:\n",
    "        class_labels_dict[label_count] = label_name\n",
    "        label_count += 1\n",
    "\n",
    "    mask_counts = dict()\n",
    "\n",
    "    for path,label in all_data.imgs:\n",
    "\n",
    "        count = mask_counts.get(label,0) + 1\n",
    "        mask_counts[label] = count\n",
    "\n",
    "    data_test_size = math.floor(test_data_index*len(all_data))\n",
    "    data_train_size =  len(all_data) - data_test_size\n",
    "    data_validation_size = math.floor(validation_data_index * data_train_size)\n",
    "    data_train_size = data_train_size - data_validation_size\n",
    "\n",
    "    data_train_loader = DataLoader(all_data,batch_size=batch,pin_memory=True,sampler=torch.randperm(len(all_data))[:data_train_size])\n",
    "    data_validation_loader = DataLoader(all_data,batch_size=batch,pin_memory=True,sampler=torch.randperm(len(all_data))[data_train_size:data_train_size+data_validation_size])\n",
    "    data_test_loader = DataLoader(all_data,batch_size=batch,pin_memory=True,sampler=torch.randperm(len(all_data))[(data_train_size+data_validation_size):])\n",
    "\n",
    "    data = {'0':mask_counts[0], \"1\":mask_counts[1], '2':mask_counts[2],\n",
    "            \"3\":mask_counts[3], \"4\" : mask_counts[4]}\n",
    "    courses = list(data.keys())\n",
    "    values = list(data.values())\n",
    "    plt.bar(courses, values, color ='maroon',width = 0.4)\n",
    "    plt.xlabel(\"Type of classes\")\n",
    "    plt.ylabel(\"No. of images\")\n",
    "    plt.title(\"Number of images in for each mask type\")\n",
    "    plt.show()\n",
    "\n",
    "    for i in class_labels_dict.keys():\n",
    "        print(i ,\" : \" , class_labels_dict[i],\"-\",mask_counts[i],\" images\")\n",
    "\n",
    "    labels = 'Training', 'Validation', 'Testing'\n",
    "    sizes = [data_train_size, data_validation_size, data_test_size]\n",
    "    explode = (0, 0, 0.1)  # only \"explode\" the 2nd slice (i.e. 'Hogs')\n",
    "\n",
    "    def absolute_val(val):\n",
    "        val = math.ceil((val/100) * len(all_data))\n",
    "        return val\n",
    "\n",
    "    fig1, ax1 = plt.subplots()\n",
    "    ax1.pie(sizes, explode=explode, labels=labels, autopct=absolute_val,\n",
    "            shadow=True, startangle=90)\n",
    "    ax1.axis('equal')\n",
    "    plt.title(\"Divison of data\")\n",
    "    plt.show()\n",
    "\n",
    "\n",
    "    return data_train_loader, data_validation_loader ,data_test_loader, class_labels_dict, class_names"
   ],
   "metadata": {
    "collapsed": false,
    "pycharm": {
     "name": "#%%\n"
    }
   }
  },
  {
   "cell_type": "code",
   "execution_count": 5,
   "outputs": [
    {
     "data": {
      "text/plain": "<Figure size 432x288 with 1 Axes>",
      "image/png": "[encoded data removed]"
     },
     "metadata": {
      "needs_background": "light"
     },
     "output_type": "display_data"
    },
    {
     "name": "stdout",
     "output_type": "stream",
     "text": [
      "0  :  Cloth_Mask - 435  images\n",
      "1  :  N95 - 402  images\n",
      "2  :  N95_With_Valve - 402  images\n",
      "3  :  No_Mask - 410  images\n",
      "4  :  Surgical - 420  images\n"
     ]
    },
    {
     "data": {
      "text/plain": "<Figure size 432x288 with 1 Axes>",
      "image/png": "[encoded data removed]"
     },
     "metadata": {},
     "output_type": "display_data"
    }
   ],
   "source": [
    "data_train_loader, data_validation_loader ,data_test_loader, class_labels_dict, class_names = data_loader(dataSet_Path,32,0.2,0.2)"
   ],
   "metadata": {
    "collapsed": false,
    "pycharm": {
     "name": "#%%\n"
    }
   }
  },
  {
   "cell_type": "markdown",
   "source": [
    "<h5> Concolution Neural Network </h5>\n",
    "<p> Here we are passing our training dataset over 6 Convolutional 2D layer with RGB channel and passing through ReLu activation function after every layer. The output channel produced after every 2 layers is passed through MaxPool2d to define the size of the flattened image. </p>"
   ],
   "metadata": {
    "collapsed": false
   }
  },
  {
   "cell_type": "code",
   "execution_count": 466,
   "outputs": [],
   "source": [
    "class CNN(nn.Module):\n",
    "    def __init__(self):\n",
    "        super().__init__()\n",
    "        self.convlayers =  nn.Sequential(\n",
    "            nn.Conv2d(3,32,3,padding=1), nn.BatchNorm2d(32), nn.LeakyReLU(),\n",
    "            nn.Conv2d(32,32,3,padding=1), nn.BatchNorm2d(32), nn.LeakyReLU(),\n",
    "            nn.MaxPool2d(2,2),\n",
    "            nn.Conv2d(32,64,3,padding=1), nn.BatchNorm2d(64), nn.LeakyReLU(),\n",
    "            nn.Conv2d(64,64,3,padding=1), nn.BatchNorm2d(64), nn.LeakyReLU(),\n",
    "            nn.MaxPool2d(2,2),\n",
    "            nn.Conv2d(64,128,3,padding=1), nn.BatchNorm2d(128), nn.LeakyReLU(),\n",
    "            nn.Conv2d(128,128,3,padding=1), nn.BatchNorm2d(128), nn.LeakyReLU(),\n",
    "            nn.MaxPool2d(2,2)\n",
    "        )\n",
    "        self.FC = nn.Sequential(\n",
    "            nn.Linear(128*16*16,50),\n",
    "            nn.Linear(50,4)\n",
    "\n",
    "        )\n",
    "\n",
    "    def forward(self,X):\n",
    "        X = self.convlayers(X)\n",
    "        X =  self.FC(X.reshape(-1,128*16*16))\n",
    "        return X"
   ],
   "metadata": {
    "collapsed": false,
    "pycharm": {
     "name": "#%%\n"
    }
   }
  },
  {
   "cell_type": "markdown",
   "source": [
    "<p> Command to check and use \"Cuda\" if system has a graphic card, else force CPU renderring </p>"
   ],
   "metadata": {
    "collapsed": false
   }
  },
  {
   "cell_type": "code",
   "execution_count": 467,
   "outputs": [],
   "source": [
    "device = torch.device('cuda' if torch.cuda.is_available() else 'cpu')"
   ],
   "metadata": {
    "collapsed": false,
    "pycharm": {
     "name": "#%%\n"
    }
   }
  },
  {
   "cell_type": "markdown",
   "source": [
    "<p> Check whether a trained model is already saved or not. If present used the saved model, else re-run the training script. </p>\n"
   ],
   "metadata": {
    "collapsed": false
   }
  },
  {
   "cell_type": "code",
   "execution_count": 468,
   "outputs": [],
   "source": [
    "model = CNN().to(device)\n",
    "\n",
    "if use_saved_model:\n",
    "    model.load_state_dict(torch.load(\"CNN.model\"),strict=False)"
   ],
   "metadata": {
    "collapsed": false,
    "pycharm": {
     "name": "#%%\n"
    }
   }
  },
  {
   "cell_type": "code",
   "execution_count": 469,
   "outputs": [],
   "source": [
    "learning_rate = 0.001\n",
    "criterion = nn.CrossEntropyLoss()\n",
    "optimizer = torch.optim.Adam(model.parameters(), lr=learning_rate)"
   ],
   "metadata": {
    "collapsed": false,
    "pycharm": {
     "name": "#%%\n"
    }
   }
  },
  {
   "cell_type": "markdown",
   "source": [
    "<p> Below is the main script which calls the CNN model to train the training dataset. Here we are using 30 epochs for training and a learning rate of 0.001. We are also displaying the training loss, validation loss and accuracy on validation after each and every epoch. </p>"
   ],
   "metadata": {
    "collapsed": false
   }
  },
  {
   "cell_type": "code",
   "execution_count": 470,
   "outputs": [
    {
     "data": {
      "text/plain": "Epochs Completed :   0%|          | 0/30 [00:00<?, ?it/s]",
      "application/vnd.jupyter.widget-view+json": {
       "version_major": 2,
       "version_minor": 0,
       "model_id": "fd045f218b7f41e3b6bd84c3d70c3b1e"
      }
     },
     "metadata": {},
     "output_type": "display_data"
    },
    {
     "name": "stdout",
     "output_type": "stream",
     "text": [
      "*** Epoch : 1 *** \n",
      " Training Loss : 3.84382 - Validation Loss : 0.38388 - Accuracy on Validation Data : 44.99\n",
      "\n",
      "*** Epoch : 2 *** \n",
      " Training Loss : 0.30030 - Validation Loss : 0.18202 - Accuracy on Validation Data : 53.01\n",
      "\n",
      "*** Epoch : 3 *** \n",
      " Training Loss : 0.09811 - Validation Loss : 0.30183 - Accuracy on Validation Data : 55.46\n",
      "\n",
      "*** Epoch : 4 *** \n",
      " Training Loss : 0.03078 - Validation Loss : 0.06746 - Accuracy on Validation Data : 52.34\n",
      "\n",
      "*** Epoch : 5 *** \n",
      " Training Loss : 0.04074 - Validation Loss : 0.02398 - Accuracy on Validation Data : 57.46\n",
      "\n",
      "*** Epoch : 6 *** \n",
      " Training Loss : 0.03917 - Validation Loss : 0.07111 - Accuracy on Validation Data : 63.03\n",
      "\n",
      "*** Epoch : 7 *** \n",
      " Training Loss : 0.50016 - Validation Loss : 0.04696 - Accuracy on Validation Data : 59.91\n",
      "\n",
      "*** Epoch : 8 *** \n",
      " Training Loss : 0.19807 - Validation Loss : 0.51057 - Accuracy on Validation Data : 68.15\n",
      "\n",
      "*** Epoch : 9 *** \n",
      " Training Loss : 0.02031 - Validation Loss : 0.03015 - Accuracy on Validation Data : 71.27\n",
      "\n",
      "*** Epoch : 10 *** \n",
      " Training Loss : 0.01391 - Validation Loss : 0.12880 - Accuracy on Validation Data : 62.81\n",
      "\n",
      "*** Epoch : 11 *** \n",
      " Training Loss : 0.01194 - Validation Loss : 0.39786 - Accuracy on Validation Data : 71.49\n",
      "\n",
      "*** Epoch : 12 *** \n",
      " Training Loss : 0.00661 - Validation Loss : 0.01585 - Accuracy on Validation Data : 58.13\n",
      "\n",
      "*** Epoch : 13 *** \n",
      " Training Loss : 0.03378 - Validation Loss : 0.00430 - Accuracy on Validation Data : 89.98\n",
      "\n",
      "*** Epoch : 14 *** \n",
      " Training Loss : 0.00631 - Validation Loss : 0.00025 - Accuracy on Validation Data : 86.86\n",
      "\n",
      "*** Epoch : 15 *** \n",
      " Training Loss : 0.00392 - Validation Loss : 0.00023 - Accuracy on Validation Data : 85.97\n",
      "\n",
      "*** Epoch : 16 *** \n",
      " Training Loss : 0.00399 - Validation Loss : 0.00003 - Accuracy on Validation Data : 83.96\n",
      "\n",
      "*** Epoch : 17 *** \n",
      " Training Loss : 0.00645 - Validation Loss : 0.00943 - Accuracy on Validation Data : 85.08\n",
      "\n",
      "*** Epoch : 18 *** \n",
      " Training Loss : 0.00539 - Validation Loss : 0.00174 - Accuracy on Validation Data : 89.31\n",
      "\n",
      "*** Epoch : 19 *** \n",
      " Training Loss : 0.00093 - Validation Loss : 0.14074 - Accuracy on Validation Data : 89.76\n",
      "\n",
      "*** Epoch : 20 *** \n",
      " Training Loss : 0.00022 - Validation Loss : 0.00042 - Accuracy on Validation Data : 89.31\n",
      "\n",
      "*** Epoch : 21 *** \n",
      " Training Loss : 0.00018 - Validation Loss : 0.00046 - Accuracy on Validation Data : 91.76\n",
      "\n",
      "*** Epoch : 22 *** \n",
      " Training Loss : 0.00005 - Validation Loss : 0.00009 - Accuracy on Validation Data : 93.10\n",
      "\n",
      "*** Epoch : 23 *** \n",
      " Training Loss : 0.00003 - Validation Loss : 0.00005 - Accuracy on Validation Data : 92.43\n",
      "\n",
      "*** Epoch : 24 *** \n",
      " Training Loss : 0.00002 - Validation Loss : 0.00003 - Accuracy on Validation Data : 92.43\n",
      "\n",
      "*** Epoch : 25 *** \n",
      " Training Loss : 0.00002 - Validation Loss : 0.00003 - Accuracy on Validation Data : 93.10\n",
      "\n",
      "*** Epoch : 26 *** \n",
      " Training Loss : 0.00002 - Validation Loss : 0.00003 - Accuracy on Validation Data : 93.10\n",
      "\n",
      "*** Epoch : 27 *** \n",
      " Training Loss : 0.00002 - Validation Loss : 0.00002 - Accuracy on Validation Data : 93.32\n",
      "\n",
      "*** Epoch : 28 *** \n",
      " Training Loss : 0.00001 - Validation Loss : 0.00002 - Accuracy on Validation Data : 93.32\n",
      "\n",
      "*** Epoch : 29 *** \n",
      " Training Loss : 0.00001 - Validation Loss : 0.00002 - Accuracy on Validation Data : 93.32\n",
      "\n",
      "*** Epoch : 30 *** \n",
      " Training Loss : 0.00001 - Validation Loss : 0.00002 - Accuracy on Validation Data : 93.32\n",
      "\n"
     ]
    }
   ],
   "source": [
    "complete_training_loss_list = []\n",
    "complete_validation_loss_list = []\n",
    "accuracy_list = []\n",
    "\n",
    "if not use_saved_model:\n",
    "\n",
    "    for e in tqdm_notebook(range(epochs) , desc = \"Epochs Completed : \"):\n",
    "        model.train()\n",
    "        loss_training = 0\n",
    "        for i, (images,labels) in enumerate(data_train_loader):\n",
    "            outputs = model(images.to(device))\n",
    "            model.zero_grad()\n",
    "            loss_training = criterion(outputs,labels.to(device))\n",
    "            loss_training.backward()\n",
    "            optimizer.step()\n",
    "        complete_training_loss_list.append(loss_training)\n",
    "\n",
    "        model.eval()\n",
    "        loss_validation=0\n",
    "\n",
    "        correct = 0\n",
    "        total = 0\n",
    "        for i, (images,labels) in enumerate(data_validation_loader):\n",
    "            with torch.no_grad():\n",
    "                outputs = model(images.to(device))\n",
    "                total += len(labels)\n",
    "                _, predicted = torch.max(outputs.data,1)\n",
    "                correct += (predicted == labels).sum().item()\n",
    "                loss_validation = criterion(outputs,labels.to(device))\n",
    "        complete_validation_loss_list.append(loss_validation)\n",
    "        accuracy = (correct/total)* 100\n",
    "        accuracy_list.append(accuracy)\n",
    "        print('*** Epoch : {} *** \\n Training Loss : {:.5f} - Validation Loss : {:.5f} - Accuracy on Validation Data : {:.2f}\\n'.format(e+1,loss_training,loss_validation , accuracy))"
   ],
   "metadata": {
    "collapsed": false,
    "pycharm": {
     "name": "#%%\n"
    }
   }
  },
  {
   "cell_type": "code",
   "execution_count": 481,
   "outputs": [
    {
     "data": {
      "text/plain": "<Figure size 432x288 with 1 Axes>",
      "image/png": "[encoded data removed]"
     },
     "metadata": {
      "needs_background": "light"
     },
     "output_type": "display_data"
    },
    {
     "data": {
      "text/plain": "<Figure size 432x288 with 1 Axes>",
      "image/png": "[encoded data removed]"
     },
     "metadata": {
      "needs_background": "light"
     },
     "output_type": "display_data"
    }
   ],
   "source": [
    "if not use_saved_model:\n",
    "\n",
    "    torch.save(model.state_dict(), \"CNN.model\")\n",
    "    plt.plot(accuracy_list)\n",
    "    plt.title('Accuracy v/s Epoch')\n",
    "    plt.xlabel('Epoch')\n",
    "    plt.ylabel('Accuracy')\n",
    "    plt.show()\n",
    "\n",
    "    plt.plot(complete_validation_loss_list)\n",
    "    plt.title('Validation Loss v/s Epoch')\n",
    "    plt.xlabel('Epoch')\n",
    "    plt.ylabel('Validation Loss')\n",
    "    plt.show()\n",
    "\n"
   ],
   "metadata": {
    "collapsed": false,
    "pycharm": {
     "name": "#%%\n"
    }
   }
  },
  {
   "cell_type": "markdown",
   "source": [
    "<h5> Utilizing testing dataset against trained model </h5>"
   ],
   "metadata": {
    "collapsed": false
   }
  },
  {
   "cell_type": "code",
   "execution_count": 472,
   "outputs": [
    {
     "name": "stderr",
     "output_type": "stream",
     "text": [
      "/var/folders/5s/c7pshfq90w9ccjykz9kg_yfw0000gn/T/ipykernel_85093/1305195751.py:12: UserWarning: Implicit dimension choice for softmax has been deprecated. Change the call to include dim=X as an argument.\n",
      "  outputs = torch.argmax(F.softmax(outputs),dim=1)\n"
     ]
    }
   ],
   "source": [
    "predicted_labels = []\n",
    "correct_labels = []\n",
    "total = 0\n",
    "\n",
    "correct_labels = []\n",
    "predicted_labels = []\n",
    "\n",
    "model.eval()\n",
    "with torch.no_grad():\n",
    "    for  i,(images,labels) in enumerate(data_test_loader):\n",
    "        outputs = model(images.to(device))\n",
    "        outputs = torch.argmax(F.softmax(outputs),dim=1)\n",
    "        if predicted_labels==[]:\n",
    "            correct_labels=labels[:];\n",
    "            predicted_labels = outputs[:]\n",
    "\n",
    "        else:\n",
    "\n",
    "            correct_labels = torch.hstack([correct_labels,labels])\n",
    "            predicted_labels = torch.hstack([predicted_labels,outputs])\n"
   ],
   "metadata": {
    "collapsed": false,
    "pycharm": {
     "name": "#%%\n"
    }
   }
  },
  {
   "cell_type": "markdown",
   "source": [
    "<p> Based on the above information, plotting a confusion matrix taking 'precision', 'recall', 'f1-score', 'support' into consideration for all 5 types of mask. </p>"
   ],
   "metadata": {
    "collapsed": false
   }
  },
  {
   "cell_type": "code",
   "execution_count": 489,
   "outputs": [
    {
     "name": "stdout",
     "output_type": "stream",
     "text": [
      "                     precision    recall  f1-score   support\n",
      "\n",
      "         Cloth_Mask       0.92      0.84      0.88        85\n",
      "           N95_Mask       0.89      0.90      0.89        98\n",
      "N95_Mask_With_Valve       0.92      0.91      0.91       149\n",
      "       No_Face_Mask       0.87      0.94      0.90       119\n",
      "      Surgical_Mask       0.98      0.97      0.98       110\n",
      "\n",
      "           accuracy                           0.91       561\n",
      "          macro avg       0.92      0.91      0.91       561\n",
      "       weighted avg       0.92      0.91      0.91       561\n",
      "\n"
     ]
    },
    {
     "data": {
      "text/plain": "<Figure size 432x288 with 2 Axes>",
      "image/png": "[encoded data removed]"
     },
     "metadata": {
      "needs_background": "light"
     },
     "output_type": "display_data"
    },
    {
     "name": "stdout",
     "output_type": "stream",
     "text": [
      "0  :  Cloth_Mask\n",
      "1  :  N95_Mask\n",
      "2  :  N95_Mask_With_Valve\n",
      "3  :  No_Face_Mask\n",
      "4  :  Surgical_Mask\n"
     ]
    }
   ],
   "source": [
    "target_names = class_names\n",
    "labels_names = [0,1,2,3,4]\n",
    "print(classification_report(correct_labels, predicted_labels,labels=labels_names, target_names=target_names))\n",
    "cm = confusion_matrix(correct_labels, predicted_labels,labels=labels_names)\n",
    "disp = ConfusionMatrixDisplay(confusion_matrix=cm,display_labels=target_names)\n",
    "disp = disp.plot(cmap=plt.cm.Blues,values_format='g')\n",
    "plt.show()\n",
    "for i in class_labels_dict.keys():\n",
    "    print(i ,\" : \" , class_labels_dict[i])"
   ],
   "metadata": {
    "collapsed": false,
    "pycharm": {
     "name": "#%%\n"
    }
   }
  },
  {
   "cell_type": "code",
   "execution_count": null,
   "outputs": [],
   "source": [],
   "metadata": {
    "collapsed": false,
    "pycharm": {
     "name": "#%%\n"
    }
   }
  }
 ],
 "metadata": {
  "kernelspec": {
   "display_name": "Python 3",
   "language": "python",
   "name": "python3"
  },
  "language_info": {
   "codemirror_mode": {
    "name": "ipython",
    "version": 2
   },
   "file_extension": ".py",
   "mimetype": "text/x-python",
   "name": "python",
   "nbconvert_exporter": "python",
   "pygments_lexer": "ipython2",
   "version": "2.7.6"
  }
 },
 "nbformat": 4,
 "nbformat_minor": 0
}