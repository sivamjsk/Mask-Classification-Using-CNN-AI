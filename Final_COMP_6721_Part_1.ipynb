{
 "cells": [
  {
   "cell_type": "markdown",
   "source": [
    "<h1>COMP 6721 Applied Artificial Intelligence</h1>"
   ],
   "metadata": {
    "collapsed": false
   }
  },
  {
   "cell_type": "code",
   "execution_count": 263,
   "metadata": {
    "collapsed": true
   },
   "outputs": [],
   "source": [
    "import torch\n",
    "import torchvision.transforms as transforms\n",
    "import torch.nn as nn\n",
    "import torch.nn.functional as F\n",
    "from torchvision.datasets import ImageFolder\n",
    "from torch.utils.data import DataLoader\n",
    "import math\n",
    "from tqdm.notebook import tqdm_notebook\n",
    "import matplotlib.pyplot as plt\n",
    "from sklearn.metrics import ConfusionMatrixDisplay, confusion_matrix , classification_report"
   ]
  },
  {
   "cell_type": "code",
   "execution_count": 221,
   "outputs": [],
   "source": [
    "dataSet_Path = 'Project_Dataset/'\n",
    "learning_rate = 0.01\n",
    "epochs = 10\n",
    "use_saved_model = False"
   ],
   "metadata": {
    "collapsed": false,
    "pycharm": {
     "name": "#%%\n"
    }
   }
  },
  {
   "cell_type": "code",
   "execution_count": 222,
   "outputs": [],
   "source": [
    "def data_loader(path,batch,test_data_index,validation_data_index):\n",
    "\n",
    "    torch.manual_seed(0)\n",
    "    transformer = transforms.Compose([transforms.Resize((128,128)), transforms.ToTensor(), transforms.Normalize(mean=[0.485, 0.456, 0.406],std=[0.225, 0.225, 0.225])])\n",
    "\n",
    "    all_data = ImageFolder(root=path, transform=transformer)\n",
    "\n",
    "    data_test_size = math.floor(test_data_index*len(all_data))\n",
    "    data_train_size =  len(all_data) - data_test_size\n",
    "    data_validation_size = math.floor(validation_data_index * data_train_size)\n",
    "    data_train_size = data_train_size - data_validation_size\n",
    "\n",
    "    print(\"Length of Total Data Set : \" ,len(all_data) )\n",
    "    print(\"Length of Training Data Set :  \", data_train_size )\n",
    "    print(\"Length of Validation Data Set :  \", data_validation_size)\n",
    "    print(\"Length of Test Data Set :  \", data_test_size)\n",
    "\n",
    "    data_train_loader = DataLoader(all_data,batch_size=batch,pin_memory=True,sampler=torch.randperm(len(all_data))[:data_train_size])\n",
    "    data_validation_loader = DataLoader(all_data,batch_size=batch,pin_memory=True,sampler=torch.randperm(len(all_data))[data_train_size:data_train_size+data_validation_size])\n",
    "    data_test_loader = DataLoader(all_data,batch_size=batch,pin_memory=True,sampler=torch.randperm(len(all_data))[(data_train_size+data_validation_size):])\n",
    "\n",
    "    # print(len(data_train_loader.dataset))\n",
    "    # print(len(data_validation_loader.dataset))\n",
    "    # print(len(data_test_loader.dataset))\n",
    "\n",
    "    labels = 'Training', 'Validation', 'Testing'\n",
    "    sizes = [data_train_size, data_validation_size, data_test_size]\n",
    "    explode = (0, 0, 0.1)  # only \"explode\" the 2nd slice (i.e. 'Hogs')\n",
    "\n",
    "    fig1, ax1 = plt.subplots()\n",
    "    ax1.pie(sizes, explode=explode, labels=labels, autopct='%1.1f%%',\n",
    "            shadow=True, startangle=90)\n",
    "    ax1.axis('equal')  # Equal aspect ratio ensures that pie is drawn as a circle.\n",
    "\n",
    "    plt.show()\n",
    "\n",
    "    return data_train_loader, data_validation_loader ,data_test_loader\n"
   ],
   "metadata": {
    "collapsed": false,
    "pycharm": {
     "name": "#%%\n"
    }
   }
  },
  {
   "cell_type": "code",
   "execution_count": 223,
   "outputs": [
    {
     "name": "stdout",
     "output_type": "stream",
     "text": [
      "Length of Total Data Set :  2808\n",
      "Length of Training Data Set :   1798\n",
      "Length of Validation Data Set :   449\n",
      "Length of Test Data Set :   561\n"
     ]
    },
    {
     "data": {
      "text/plain": "<Figure size 432x288 with 1 Axes>",
      "image/png": "[encoded data removed]"
     },
     "metadata": {},
     "output_type": "display_data"
    }
   ],
   "source": [
    "data_train_loader, data_validation_loader ,data_test_loader = data_loader(dataSet_Path,32,0.2,0.2)"
   ],
   "metadata": {
    "collapsed": false,
    "pycharm": {
     "name": "#%%\n"
    }
   }
  },
  {
   "cell_type": "code",
   "execution_count": 224,
   "outputs": [],
   "source": [
    "class CNN(nn.Module):\n",
    "    def __init__(self):\n",
    "        super().__init__()\n",
    "        self.convlayers =  nn.Sequential(\n",
    "            nn.Conv2d(3,32,3,padding=1), nn.BatchNorm2d(32), nn.LeakyReLU(),\n",
    "            # nn.Conv2d(32,32,3,padding=1), nn.BatchNorm2d(32), nn.LeakyReLU(),\n",
    "            nn.MaxPool2d(2,2),\n",
    "            nn.Conv2d(32,64,3,padding=1), nn.BatchNorm2d(64), nn.LeakyReLU(),\n",
    "            # nn.Conv2d(64,64,3,padding=1), nn.BatchNorm2d(64), nn.LeakyReLU(),\n",
    "            nn.MaxPool2d(2,2),\n",
    "            nn.Conv2d(64,128,3,padding=1), nn.BatchNorm2d(128), nn.LeakyReLU(),\n",
    "            # nn.Conv2d(128,128,3,padding=1), nn.BatchNorm2d(128), nn.LeakyReLU(),\n",
    "            nn.MaxPool2d(2,2)\n",
    "        )\n",
    "        self.FC = nn.Sequential(\n",
    "            nn.Linear(128*16*16,50),\n",
    "            nn.Linear(50,5)\n",
    "\n",
    "        )\n",
    "\n",
    "    def forward(self,X):\n",
    "        X = self.convlayers(X)\n",
    "        X =  self.FC(X.reshape(-1,128*16*16))\n",
    "        return X"
   ],
   "metadata": {
    "collapsed": false,
    "pycharm": {
     "name": "#%%\n"
    }
   }
  },
  {
   "cell_type": "code",
   "execution_count": 225,
   "outputs": [],
   "source": [
    "device = torch.device('cuda' if torch.cuda.is_available() else 'cpu')"
   ],
   "metadata": {
    "collapsed": false,
    "pycharm": {
     "name": "#%%\n"
    }
   }
  },
  {
   "cell_type": "code",
   "execution_count": 226,
   "outputs": [],
   "source": [
    "model = CNN().to(device)\n",
    "\n",
    "if use_saved_model:\n",
    "    model.load_state_dict(torch.load(\"CNN.model\"),strict=False)"
   ],
   "metadata": {
    "collapsed": false,
    "pycharm": {
     "name": "#%%\n"
    }
   }
  },
  {
   "cell_type": "code",
   "execution_count": 227,
   "outputs": [],
   "source": [
    "learning_rate = 0.01\n",
    "criterion = nn.CrossEntropyLoss()\n",
    "optimizer = torch.optim.Adam(model.parameters(), lr=learning_rate)"
   ],
   "metadata": {
    "collapsed": false,
    "pycharm": {
     "name": "#%%\n"
    }
   }
  },
  {
   "cell_type": "code",
   "execution_count": 228,
   "outputs": [
    {
     "data": {
      "text/plain": "Epochs Completed :   0%|          | 0/10 [00:00<?, ?it/s]",
      "application/vnd.jupyter.widget-view+json": {
       "version_major": 2,
       "version_minor": 0,
       "model_id": "892ecce564814601908f5af422dfcf83"
      }
     },
     "metadata": {},
     "output_type": "display_data"
    },
    {
     "name": "stdout",
     "output_type": "stream",
     "text": [
      "*** Epoch : 1 *** \n",
      " Training Loss : 2.89294\n",
      " Validation Loss : 0.39126\n",
      " Accuracy on Validation Data : 32.52\n",
      "\n",
      "\n",
      "*** Epoch : 2 *** \n",
      " Training Loss : 1.25972\n",
      " Validation Loss : 1.43065\n",
      " Accuracy on Validation Data : 50.11\n",
      "\n",
      "\n",
      "*** Epoch : 3 *** \n",
      " Training Loss : 0.80937\n",
      " Validation Loss : 0.79466\n",
      " Accuracy on Validation Data : 52.56\n",
      "\n",
      "\n",
      "*** Epoch : 4 *** \n",
      " Training Loss : 0.57441\n",
      " Validation Loss : 1.09070\n",
      " Accuracy on Validation Data : 57.46\n",
      "\n",
      "\n",
      "*** Epoch : 5 *** \n",
      " Training Loss : 0.45214\n",
      " Validation Loss : 0.56221\n",
      " Accuracy on Validation Data : 60.36\n",
      "\n",
      "\n",
      "*** Epoch : 6 *** \n",
      " Training Loss : 0.40259\n",
      " Validation Loss : 0.50585\n",
      " Accuracy on Validation Data : 57.24\n",
      "\n",
      "\n",
      "*** Epoch : 7 *** \n",
      " Training Loss : 0.40455\n",
      " Validation Loss : 0.40151\n",
      " Accuracy on Validation Data : 59.91\n",
      "\n",
      "\n",
      "*** Epoch : 8 *** \n",
      " Training Loss : 0.20103\n",
      " Validation Loss : 0.25920\n",
      " Accuracy on Validation Data : 53.90\n",
      "\n",
      "\n",
      "*** Epoch : 9 *** \n",
      " Training Loss : 0.07738\n",
      " Validation Loss : 0.08562\n",
      " Accuracy on Validation Data : 56.57\n",
      "\n",
      "\n",
      "*** Epoch : 10 *** \n",
      " Training Loss : 0.11528\n",
      " Validation Loss : 0.08377\n",
      " Accuracy on Validation Data : 63.70\n",
      "\n",
      "\n"
     ]
    }
   ],
   "source": [
    "complete_training_loss_list = []\n",
    "complete_validation_loss_list = []\n",
    "accuracy_list = []\n",
    "\n",
    "if not use_saved_model:\n",
    "\n",
    "    for e in tqdm_notebook(range(epochs) , desc = \"Epochs Completed : \"):\n",
    "        model.train()\n",
    "        loss_training = 0\n",
    "        for i, (images,labels) in enumerate(data_train_loader):\n",
    "            outputs = model(images.to(device))\n",
    "            model.zero_grad()\n",
    "            loss_training = criterion(outputs,labels.to(device))\n",
    "            loss_training.backward()\n",
    "            optimizer.step()\n",
    "        complete_training_loss_list.append(loss_training)\n",
    "\n",
    "        model.eval()\n",
    "        loss_validation=0\n",
    "\n",
    "        correct = 0\n",
    "        total = 0\n",
    "        for i, (images,labels) in enumerate(data_validation_loader):\n",
    "            with torch.no_grad():\n",
    "                outputs = model(images.to(device))\n",
    "                total += len(labels)\n",
    "                _, predicted = torch.max(outputs.data,1)\n",
    "                correct += (predicted == labels).sum().item()\n",
    "                loss_validation = criterion(outputs,labels.to(device))\n",
    "        complete_validation_loss_list.append(loss_validation)\n",
    "        accuracy = (correct/total)* 100\n",
    "        accuracy_list.append(accuracy)\n",
    "        print('*** Epoch : {} *** \\n Training Loss : {:.5f}\\n Validation Loss : {:.5f}\\n Accuracy on Validation Data : {:.2f}\\n\\n'.format(e+1,loss_training,loss_validation , accuracy))"
   ],
   "metadata": {
    "collapsed": false,
    "pycharm": {
     "name": "#%%\n"
    }
   }
  },
  {
   "cell_type": "code",
   "execution_count": 235,
   "outputs": [],
   "source": [
    "if not use_saved_model:\n",
    "    torch.save(model.state_dict(), \"CNN.model\")\n",
    "    plt.plot(accuracy_list)\n",
    "    plt.title('Accuracy')\n",
    "    plt.xlabel('Epoch')\n",
    "    plt.ylabel('Accuracy')\n",
    "    plt.show()"
   ],
   "metadata": {
    "collapsed": false,
    "pycharm": {
     "name": "#%%\n"
    }
   }
  },
  {
   "cell_type": "code",
   "execution_count": 244,
   "outputs": [
    {
     "name": "stderr",
     "output_type": "stream",
     "text": [
      "/var/folders/5s/c7pshfq90w9ccjykz9kg_yfw0000gn/T/ipykernel_85093/1305195751.py:12: UserWarning: Implicit dimension choice for softmax has been deprecated. Change the call to include dim=X as an argument.\n",
      "  outputs = torch.argmax(F.softmax(outputs),dim=1)\n"
     ]
    }
   ],
   "source": [
    "predicted_labels = []\n",
    "correct_labels = []\n",
    "total = 0\n",
    "\n",
    "correct_labels = []\n",
    "predicted_labels = []\n",
    "\n",
    "model.eval()\n",
    "with torch.no_grad():\n",
    "    for  i,(images,labels) in enumerate(data_test_loader):\n",
    "        outputs = model(images.to(device))\n",
    "        outputs = torch.argmax(F.softmax(outputs),dim=1)\n",
    "        if predicted_labels==[]:\n",
    "            correct_labels=labels[:];\n",
    "            predicted_labels = outputs[:]\n",
    "\n",
    "        else:\n",
    "\n",
    "            correct_labels = torch.hstack([correct_labels,labels])\n",
    "            predicted_labels = torch.hstack([predicted_labels,outputs])\n"
   ],
   "metadata": {
    "collapsed": false,
    "pycharm": {
     "name": "#%%\n"
    }
   }
  },
  {
   "cell_type": "code",
   "execution_count": 265,
   "outputs": [
    {
     "name": "stdout",
     "output_type": "stream",
     "text": [
      "              precision    recall  f1-score   support\n",
      "\n",
      "           0       0.37      0.78      0.50        85\n",
      "           1       0.82      0.52      0.64        98\n",
      "           2       0.69      0.58      0.63       149\n",
      "           3       0.50      0.43      0.46       119\n",
      "           4       0.95      0.80      0.87       110\n",
      "\n",
      "    accuracy                           0.61       561\n",
      "   macro avg       0.66      0.62      0.62       561\n",
      "weighted avg       0.67      0.61      0.62       561\n",
      "\n"
     ]
    },
    {
     "data": {
      "text/plain": "<Figure size 432x288 with 2 Axes>",
      "image/png": "[encoded data removed]"
     },
     "metadata": {
      "needs_background": "light"
     },
     "output_type": "display_data"
    }
   ],
   "source": [
    "target_names = ['0', '1', '2', '3','4']\n",
    "labels_names = [0,1,2,3,4]\n",
    "print(classification_report(correct_labels, predicted_labels,labels=labels_names, target_names=target_names))\n",
    "cm = confusion_matrix(correct_labels, predicted_labels,labels=labels_names)\n",
    "disp = ConfusionMatrixDisplay(confusion_matrix=cm,display_labels=target_names)\n",
    "disp = disp.plot(cmap=plt.cm.Blues,values_format='g')\n",
    "plt.show()"
   ],
   "metadata": {
    "collapsed": false,
    "pycharm": {
     "name": "#%%\n"
    }
   }
  }
 ],
 "metadata": {
  "kernelspec": {
   "display_name": "Python 3",
   "language": "python",
   "name": "python3"
  },
  "language_info": {
   "codemirror_mode": {
    "name": "ipython",
    "version": 2
   },
   "file_extension": ".py",
   "mimetype": "text/x-python",
   "name": "python",
   "nbconvert_exporter": "python",
   "pygments_lexer": "ipython2",
   "version": "2.7.6"
  }
 },
 "nbformat": 4,
 "nbformat_minor": 0
}