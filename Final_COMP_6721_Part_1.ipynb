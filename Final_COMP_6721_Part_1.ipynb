{
 "cells": [
  {
   "cell_type": "markdown",
   "source": [
    "<h1>AI Face Mask Detector, Project Assignment Part-I.</h1>\n",
    "<h5>COMP 6721 Applied Artificial Intelligence</h5>\n",
    "<ul>\n",
    "<li>40155790 - Sivakumaran Malli Janardhanan</li>\n",
    "<li>40198979 - Saghana Mahesh</li>\n",
    "<li>40163063 - Shubhang Khattar</li>\n",
    "</ul>\n",
    "\n",
    "<hr>\n",
    "<p>Goal is to to develop a Deep Learning Convolutional Neural Network (CNN) using PyTorch and train it to recognize five different classes:</p>\n",
    "<ol>\n",
    "<li>Person without a face mask</li>\n",
    "<li>Person with a cloth face mask</li>\n",
    "<li>Person with a surgical mask</li>\n",
    "<li>Person with a N95 mask</li>\n",
    "<li>Person with a N95 mask that has a valve.</li>\n",
    "</ol>"
   ],
   "metadata": {
    "collapsed": false
   }
  },
  {
   "cell_type": "markdown",
   "source": [
    "<h5> Importing packages </h5>\n",
    "<p> All packages to be imported will be declared all together to keep code clean </p>"
   ],
   "metadata": {
    "collapsed": false
   }
  },
  {
   "cell_type": "code",
   "execution_count": 1,
   "metadata": {
    "collapsed": true
   },
   "outputs": [],
   "source": [
    "# Importing libraries\n",
    "import torch\n",
    "import torchvision.transforms as transforms\n",
    "import torch.nn as nn\n",
    "from torch.nn import functional\n",
    "from torchvision.datasets import ImageFolder\n",
    "from torch.utils.data import DataLoader\n",
    "import math\n",
    "from tqdm.notebook import tqdm_notebook\n",
    "import matplotlib.pyplot as plt\n",
    "from sklearn.metrics import ConfusionMatrixDisplay, confusion_matrix , classification_report"
   ]
  },
  {
   "cell_type": "markdown",
   "source": [
    "<h5>Constants Declaration</h5>\n",
    "<p> All Constants used below in the project will be declared here.</p>\n",
    "<p> learning rate = 0.001 </p>\n",
    "<p> Number of epochs = 30 </p>"
   ],
   "metadata": {
    "collapsed": false
   }
  },
  {
   "cell_type": "code",
   "execution_count": 2,
   "outputs": [],
   "source": [
    "# Declaring various constants\n",
    "dataSet_Path = 'Project_Dataset_2/'\n",
    "epochs = 30\n",
    "use_saved_model = False\n",
    "model_name = \"CNN.model\""
   ],
   "metadata": {
    "collapsed": false,
    "pycharm": {
     "name": "#%%\n"
    }
   }
  },
  {
   "cell_type": "markdown",
   "source": [
    "<h5> Data loading </h5>\n",
    "<p> The data set for this project has been compiled from various sources </p>\n",
    "\n",
    "1. https://www.kaggle.com/omkargurav/face-mask-dataset\n",
    "2. https://www.kaggle.com/prithwirajmitra/covid-face-mask-detection-dataset\n",
    "3. https://www.kaggle.com/sumansid/facemask-dataset\n",
    "4. https://www.kaggle.com/ashishjangra27/face-mask-12k-images-dataset\n",
    "5. https://www.kaggle.com/omkargurav/face-mask-dataset\n",
    "6. https://humansintheloop.org/resources/datasets/medical-mask-dataset/\n",
    "7. https://www.shutterstock.com/search/ffp2?number_of_people=1&mreleased=true\n",
    "8. https://www.gettyimages.ca/photos/ffp2-mask?assettype=image&sort=mostpopular&\n",
    "\n",
    "We have the following number of images\n",
    "Cloth_Mask - 435  images\n",
    "N95 - 402  images\n",
    "N95_With_Valve - 402  images\n",
    "No_Mask - 410  images\n",
    "Surgical - 420  images\n",
    "\n",
    "We have utilised 20% of the dataset for testing. In the remaining dataset, 80% is used for training and 20% is used for validation."
   ],
   "metadata": {
    "collapsed": false
   }
  },
  {
   "cell_type": "code",
   "execution_count": 3,
   "outputs": [],
   "source": [
    "def data_loader(path,batch,test_data_index,validation_data_index):\n",
    "\n",
    "    torch.manual_seed(0)\n",
    "    transformer = transforms.Compose([transforms.Resize((128,128)), transforms.ToTensor(), transforms.Normalize(mean=[0.485, 0.456, 0.406],std=[0.225, 0.225, 0.225])])\n",
    "\n",
    "    all_data = ImageFolder(root=path, transform=transformer)\n",
    "\n",
    "    class_labels_dict = {}\n",
    "    class_names = all_data.classes\n",
    "    label_count = 0\n",
    "    for label_name in all_data.classes:\n",
    "        class_labels_dict[label_count] = label_name\n",
    "        label_count += 1\n",
    "\n",
    "    mask_counts = dict()\n",
    "\n",
    "    for path,label in all_data.imgs:\n",
    "\n",
    "        count = mask_counts.get(label,0) + 1\n",
    "        mask_counts[label] = count\n",
    "\n",
    "    data_test_size = math.floor(test_data_index*len(all_data))\n",
    "    data_train_size =  len(all_data) - data_test_size\n",
    "    data_validation_size = math.floor(validation_data_index * data_train_size)\n",
    "    data_train_size = data_train_size - data_validation_size\n",
    "\n",
    "    data_train_loader = DataLoader(all_data,batch_size=batch,pin_memory=True,sampler=torch.randperm(len(all_data))[:data_train_size])\n",
    "    data_validation_loader = DataLoader(all_data,batch_size=batch,pin_memory=True,sampler=torch.randperm(len(all_data))[data_train_size:data_train_size+data_validation_size])\n",
    "    data_test_loader = DataLoader(all_data,batch_size=batch,pin_memory=True,sampler=torch.randperm(len(all_data))[(data_train_size+data_validation_size):])\n",
    "\n",
    "    data = {'0':mask_counts[0], \"1\":mask_counts[1], '2':mask_counts[2],\n",
    "            \"3\":mask_counts[3], \"4\" : mask_counts[4]}\n",
    "    courses = list(data.keys())\n",
    "    values = list(data.values())\n",
    "    plt.bar(courses, values, color ='maroon',width = 0.4)\n",
    "    plt.xlabel(\"Type of classes\")\n",
    "    plt.ylabel(\"No. of images\")\n",
    "    plt.title(\"Number of images in for each mask type\")\n",
    "    plt.show()\n",
    "\n",
    "    for i in class_labels_dict.keys():\n",
    "        print(i ,\" : \" , class_labels_dict[i],\"-\",mask_counts[i],\" images\")\n",
    "\n",
    "    labels = 'Training', 'Validation', 'Testing'\n",
    "    sizes = [data_train_size, data_validation_size, data_test_size]\n",
    "    explode = (0, 0, 0.1)  # only \"explode\" the 2nd slice (i.e. 'Hogs')\n",
    "\n",
    "    fig1, ax1 = plt.subplots()\n",
    "    ax1.pie(sizes, explode=explode, labels=labels, autopct=\"%1.1f%%\",\n",
    "            shadow=True, startangle=90)\n",
    "    ax1.axis('equal')\n",
    "    plt.title(\"Divison of data\")\n",
    "    plt.show()\n",
    "\n",
    "    print(\"Total Data set Size: \",len(all_data))\n",
    "    print(\"Train Image Size : \",data_train_size)\n",
    "    print(\"Validation Image Size : \",data_validation_size)\n",
    "    print(\"Test Image Size : \",data_test_size)\n",
    "\n",
    "\n",
    "    return data_train_loader, data_validation_loader ,data_test_loader, class_labels_dict, class_names"
   ],
   "metadata": {
    "collapsed": false,
    "pycharm": {
     "name": "#%%\n"
    }
   }
  },
  {
   "cell_type": "code",
   "execution_count": 4,
   "outputs": [
    {
     "data": {
      "text/plain": "<Figure size 432x288 with 1 Axes>",
      "image/png": "[encoded data removed]"
     },
     "metadata": {
      "needs_background": "light"
     },
     "output_type": "display_data"
    },
    {
     "name": "stdout",
     "output_type": "stream",
     "text": [
      "0  :  Cloth_Mask - 435  images\n",
      "1  :  N95 - 402  images\n",
      "2  :  N95_With_Valve - 402  images\n",
      "3  :  No_Mask - 410  images\n",
      "4  :  Surgical - 420  images\n"
     ]
    },
    {
     "data": {
      "text/plain": "<Figure size 432x288 with 1 Axes>",
      "image/png": "[encoded data removed]"
     },
     "metadata": {},
     "output_type": "display_data"
    },
    {
     "name": "stdout",
     "output_type": "stream",
     "text": [
      "Total Data set Size:  2069\n",
      "Train Image Size :  1325\n",
      "Validation Image Size :  331\n",
      "Test Image Size :  413\n"
     ]
    }
   ],
   "source": [
    "data_train_loader, data_validation_loader ,data_test_loader, class_labels_dict, class_names = data_loader(dataSet_Path,32,0.2,0.2)"
   ],
   "metadata": {
    "collapsed": false,
    "pycharm": {
     "name": "#%%\n"
    }
   }
  },
  {
   "cell_type": "markdown",
   "source": [
    "<h5> Concolution Neural Network </h5>\n",
    "<p> Here we are passing our training dataset over 6 Convolutional 2D layer with RGB channel and passing through ReLu activation function after every layer. The output channel produced after every 2 layers is passed through MaxPool2d to define the size of the flattened image. </p>"
   ],
   "metadata": {
    "collapsed": false
   }
  },
  {
   "cell_type": "code",
   "execution_count": 5,
   "outputs": [],
   "source": [
    "class CNN(nn.Module):\n",
    "    def __init__(self):\n",
    "        super(CNN,self).__init__()\n",
    "        self.convolution_layers =  nn.Sequential(\n",
    "            nn.Conv2d(in_channels=3,out_channels=32,kernel_size=(3,3),stride=(1,1),padding=(1,1)), nn.BatchNorm2d(32), nn.LeakyReLU(),\n",
    "            nn.MaxPool2d(kernel_size=(2,2),stride=(2,2)),\n",
    "            nn.Conv2d(in_channels=32,out_channels=64,kernel_size=(3,3),stride=(1,1),padding=(1,1)), nn.BatchNorm2d(64), nn.LeakyReLU(),\n",
    "            nn.MaxPool2d(kernel_size=(2,2),stride=(2,2)),\n",
    "            nn.Conv2d(in_channels=64,out_channels=128,kernel_size=(3,3),stride=(1,1),padding=(1,1)), nn.BatchNorm2d(128), nn.LeakyReLU(),\n",
    "            nn.MaxPool2d(kernel_size=(2,2),stride=(2,2)),\n",
    "        )\n",
    "        self.fully_connected_layers = nn.Sequential(\n",
    "            nn.Linear(in_features=128*16*16,out_features=50),\n",
    "            nn.Linear(in_features=50,out_features=5)\n",
    "        )\n",
    "\n",
    "    def forward(self,X):\n",
    "        X = self.convolution_layers(X)\n",
    "        X =  self.fully_connected_layers(X.reshape(-1,128*16*16))\n",
    "        return X"
   ],
   "metadata": {
    "collapsed": false,
    "pycharm": {
     "name": "#%%\n"
    }
   }
  },
  {
   "cell_type": "markdown",
   "source": [
    "<p> Command to check and use \"Cuda\" if system has a graphic card, else force CPU. </p>"
   ],
   "metadata": {
    "collapsed": false
   }
  },
  {
   "cell_type": "code",
   "execution_count": 6,
   "outputs": [],
   "source": [
    "device = torch.device('cuda' if torch.cuda.is_available() else 'cpu')"
   ],
   "metadata": {
    "collapsed": false,
    "pycharm": {
     "name": "#%%\n"
    }
   }
  },
  {
   "cell_type": "markdown",
   "source": [
    "<p>Check whether a trained model is already saved or not. If present used the saved model, else re-run the training script.</p>"
   ],
   "metadata": {
    "collapsed": false
   }
  },
  {
   "cell_type": "code",
   "execution_count": 17,
   "outputs": [
    {
     "name": "stdout",
     "output_type": "stream",
     "text": [
      "CNN(\n",
      "  (convolution_layers): Sequential(\n",
      "    (0): Conv2d(3, 32, kernel_size=(3, 3), stride=(1, 1), padding=(1, 1))\n",
      "    (1): BatchNorm2d(32, eps=1e-05, momentum=0.1, affine=True, track_running_stats=True)\n",
      "    (2): LeakyReLU(negative_slope=0.01)\n",
      "    (3): MaxPool2d(kernel_size=(2, 2), stride=(2, 2), padding=0, dilation=1, ceil_mode=False)\n",
      "    (4): Conv2d(32, 64, kernel_size=(3, 3), stride=(1, 1), padding=(1, 1))\n",
      "    (5): BatchNorm2d(64, eps=1e-05, momentum=0.1, affine=True, track_running_stats=True)\n",
      "    (6): LeakyReLU(negative_slope=0.01)\n",
      "    (7): MaxPool2d(kernel_size=(2, 2), stride=(2, 2), padding=0, dilation=1, ceil_mode=False)\n",
      "    (8): Conv2d(64, 128, kernel_size=(3, 3), stride=(1, 1), padding=(1, 1))\n",
      "    (9): BatchNorm2d(128, eps=1e-05, momentum=0.1, affine=True, track_running_stats=True)\n",
      "    (10): LeakyReLU(negative_slope=0.01)\n",
      "    (11): MaxPool2d(kernel_size=(2, 2), stride=(2, 2), padding=0, dilation=1, ceil_mode=False)\n",
      "  )\n",
      "  (fully_connected_layers): Sequential(\n",
      "    (0): Linear(in_features=32768, out_features=50, bias=True)\n",
      "    (1): Linear(in_features=50, out_features=5, bias=True)\n",
      "  )\n",
      ")\n"
     ]
    }
   ],
   "source": [
    "model = CNN().to(device)\n",
    "\n",
    "if use_saved_model:\n",
    "    model.load_state_dict(torch.load(model_name),strict=False)\n",
    "\n",
    "print(model)"
   ],
   "metadata": {
    "collapsed": false,
    "pycharm": {
     "name": "#%%\n"
    }
   }
  },
  {
   "cell_type": "markdown",
   "source": [
    "<p> Below is the main script which calls the CNN model to train the training dataset. Here we are using 30 epochs for training and a learning rate of 0.001. We are also displaying the training loss, validation loss and accuracy on validation after each and every epoch. </p>"
   ],
   "metadata": {
    "collapsed": false
   }
  },
  {
   "cell_type": "code",
   "execution_count": 8,
   "outputs": [],
   "source": [
    "learning_rate = 0.001\n",
    "criterion = nn.CrossEntropyLoss()\n",
    "optimizer = torch.optim.Adam(model.parameters(), lr=learning_rate)"
   ],
   "metadata": {
    "collapsed": false,
    "pycharm": {
     "name": "#%%\n"
    }
   }
  },
  {
   "cell_type": "code",
   "execution_count": 9,
   "outputs": [
    {
     "data": {
      "text/plain": "Epochs Completed :   0%|          | 0/30 [00:00<?, ?it/s]",
      "application/vnd.jupyter.widget-view+json": {
       "version_major": 2,
       "version_minor": 0,
       "model_id": "5c2767621fbf460ba650cdac7a4979b4"
      }
     },
     "metadata": {},
     "output_type": "display_data"
    },
    {
     "name": "stdout",
     "output_type": "stream",
     "text": [
      "*** Epoch : 1 *** \n",
      " Training Loss : 3.49331 - Validation Loss : 6.95042 - Accuracy on Validation Data : 58.91\n",
      "\n",
      "*** Epoch : 2 *** \n",
      " Training Loss : 1.19116 - Validation Loss : 3.40814 - Accuracy on Validation Data : 57.70\n",
      "\n",
      "*** Epoch : 3 *** \n",
      " Training Loss : 0.34328 - Validation Loss : 2.55441 - Accuracy on Validation Data : 56.19\n",
      "\n",
      "*** Epoch : 4 *** \n",
      " Training Loss : 0.06540 - Validation Loss : 2.48608 - Accuracy on Validation Data : 71.00\n",
      "\n",
      "*** Epoch : 5 *** \n",
      " Training Loss : 0.03865 - Validation Loss : 1.44650 - Accuracy on Validation Data : 82.48\n",
      "\n",
      "*** Epoch : 6 *** \n",
      " Training Loss : 1.00045 - Validation Loss : 1.27242 - Accuracy on Validation Data : 83.08\n",
      "\n",
      "*** Epoch : 7 *** \n",
      " Training Loss : 0.21597 - Validation Loss : 0.54070 - Accuracy on Validation Data : 82.48\n",
      "\n",
      "*** Epoch : 8 *** \n",
      " Training Loss : 0.11512 - Validation Loss : 0.36220 - Accuracy on Validation Data : 82.18\n",
      "\n",
      "*** Epoch : 9 *** \n",
      " Training Loss : 0.13522 - Validation Loss : 1.10423 - Accuracy on Validation Data : 84.89\n",
      "\n",
      "*** Epoch : 10 *** \n",
      " Training Loss : 0.01619 - Validation Loss : 1.58124 - Accuracy on Validation Data : 76.13\n",
      "\n",
      "*** Epoch : 11 *** \n",
      " Training Loss : 0.30022 - Validation Loss : 0.84724 - Accuracy on Validation Data : 83.69\n",
      "\n",
      "*** Epoch : 12 *** \n",
      " Training Loss : 0.01095 - Validation Loss : 0.55201 - Accuracy on Validation Data : 78.55\n",
      "\n",
      "*** Epoch : 13 *** \n",
      " Training Loss : 0.10111 - Validation Loss : 0.17246 - Accuracy on Validation Data : 89.12\n",
      "\n",
      "*** Epoch : 14 *** \n",
      " Training Loss : 0.00934 - Validation Loss : 0.31596 - Accuracy on Validation Data : 85.50\n",
      "\n",
      "*** Epoch : 15 *** \n",
      " Training Loss : 0.04405 - Validation Loss : 0.08660 - Accuracy on Validation Data : 87.61\n",
      "\n",
      "*** Epoch : 16 *** \n",
      " Training Loss : 0.00577 - Validation Loss : 0.43513 - Accuracy on Validation Data : 91.54\n",
      "\n",
      "*** Epoch : 17 *** \n",
      " Training Loss : 0.00372 - Validation Loss : 0.69689 - Accuracy on Validation Data : 88.82\n",
      "\n",
      "*** Epoch : 18 *** \n",
      " Training Loss : 0.02134 - Validation Loss : 0.72116 - Accuracy on Validation Data : 90.33\n",
      "\n",
      "*** Epoch : 19 *** \n",
      " Training Loss : 0.00121 - Validation Loss : 0.28830 - Accuracy on Validation Data : 90.63\n",
      "\n",
      "*** Epoch : 20 *** \n",
      " Training Loss : 0.00239 - Validation Loss : 0.73448 - Accuracy on Validation Data : 89.12\n",
      "\n",
      "*** Epoch : 21 *** \n",
      " Training Loss : 0.00259 - Validation Loss : 0.85047 - Accuracy on Validation Data : 90.63\n",
      "\n",
      "*** Epoch : 22 *** \n",
      " Training Loss : 0.00112 - Validation Loss : 1.16535 - Accuracy on Validation Data : 90.33\n",
      "\n",
      "*** Epoch : 23 *** \n",
      " Training Loss : 0.00128 - Validation Loss : 0.71328 - Accuracy on Validation Data : 92.15\n",
      "\n",
      "*** Epoch : 24 *** \n",
      " Training Loss : 0.00070 - Validation Loss : 0.71649 - Accuracy on Validation Data : 92.15\n",
      "\n",
      "*** Epoch : 25 *** \n",
      " Training Loss : 0.00099 - Validation Loss : 0.45675 - Accuracy on Validation Data : 92.15\n",
      "\n",
      "*** Epoch : 26 *** \n",
      " Training Loss : 0.00083 - Validation Loss : 0.49048 - Accuracy on Validation Data : 92.75\n",
      "\n",
      "*** Epoch : 27 *** \n",
      " Training Loss : 0.00120 - Validation Loss : 0.36956 - Accuracy on Validation Data : 92.15\n",
      "\n",
      "*** Epoch : 28 *** \n",
      " Training Loss : 0.00076 - Validation Loss : 0.40545 - Accuracy on Validation Data : 91.84\n",
      "\n",
      "*** Epoch : 29 *** \n",
      " Training Loss : 0.00123 - Validation Loss : 0.45817 - Accuracy on Validation Data : 91.84\n",
      "\n",
      "*** Epoch : 30 *** \n",
      " Training Loss : 0.00059 - Validation Loss : 0.36772 - Accuracy on Validation Data : 92.15\n",
      "\n"
     ]
    }
   ],
   "source": [
    "complete_validation_loss_list = []\n",
    "accuracy_list = []\n",
    "\n",
    "if not use_saved_model:\n",
    "\n",
    "    for e in tqdm_notebook(range(epochs) , desc = \"Epochs Completed : \"):\n",
    "        model.train()\n",
    "        loss_training = 0\n",
    "        for i, (images,labels) in enumerate(data_train_loader):\n",
    "            outputs = model(images.to(device))\n",
    "            model.zero_grad()\n",
    "            loss_training = criterion(outputs,labels.to(device))\n",
    "            loss_training.backward()\n",
    "            optimizer.step()\n",
    "\n",
    "        model.eval()\n",
    "        loss_validation=0\n",
    "\n",
    "        correct = 0\n",
    "        total = 0\n",
    "        for i, (images,labels) in enumerate(data_validation_loader):\n",
    "            with torch.no_grad():\n",
    "                outputs = model(images.to(device))\n",
    "                total += len(labels)\n",
    "                _, predicted = torch.max(outputs.data,1)\n",
    "                correct += (predicted == labels).sum().item()\n",
    "                loss_validation = criterion(outputs,labels.to(device))\n",
    "        complete_validation_loss_list.append(loss_validation)\n",
    "        accuracy = (correct/total)* 100\n",
    "        accuracy_list.append(accuracy)\n",
    "        print('*** Epoch : {} *** \\n Training Loss : {:.5f} - Validation Loss : {:.5f} - Accuracy on Validation Data : {:.2f}\\n'.format(e+1,loss_training,loss_validation , accuracy))"
   ],
   "metadata": {
    "collapsed": false,
    "pycharm": {
     "name": "#%%\n"
    }
   }
  },
  {
   "cell_type": "code",
   "execution_count": 15,
   "outputs": [
    {
     "data": {
      "text/plain": "<Figure size 432x288 with 1 Axes>",
      "image/png": "[encoded data removed]"
     },
     "metadata": {
      "needs_background": "light"
     },
     "output_type": "display_data"
    },
    {
     "data": {
      "text/plain": "<Figure size 432x288 with 1 Axes>",
      "image/png": "[encoded data removed]"
     },
     "metadata": {
      "needs_background": "light"
     },
     "output_type": "display_data"
    }
   ],
   "source": [
    "if not use_saved_model:\n",
    "\n",
    "    torch.save(model.state_dict(), model_name)\n",
    "    plt.plot(accuracy_list)\n",
    "    plt.title('Accuracy v/s Epoch')\n",
    "    plt.xlabel('Epoch')\n",
    "    plt.ylabel('Accuracy')\n",
    "    plt.show()\n",
    "\n",
    "    plt.plot(complete_validation_loss_list)\n",
    "    plt.title('Validation Loss v/s Epoch')\n",
    "    plt.xlabel('Epoch')\n",
    "    plt.ylabel('Validation Loss')\n",
    "    plt.show()\n",
    "\n"
   ],
   "metadata": {
    "collapsed": false,
    "pycharm": {
     "name": "#%%\n"
    }
   }
  },
  {
   "cell_type": "code",
   "execution_count": 11,
   "outputs": [
    {
     "name": "stderr",
     "output_type": "stream",
     "text": [
      "/var/folders/5s/c7pshfq90w9ccjykz9kg_yfw0000gn/T/ipykernel_65074/1437411016.py:12: UserWarning: Implicit dimension choice for softmax has been deprecated. Change the call to include dim=X as an argument.\n",
      "  outputs = torch.argmax(functional.softmax(outputs),dim=1)\n",
      "/Users/shubhangkhattar/.conda/envs/JustForFun/lib/python3.8/site-packages/PIL/Image.py:945: UserWarning: Palette images with Transparency expressed in bytes should be converted to RGBA images\n",
      "  warnings.warn(\n"
     ]
    }
   ],
   "source": [
    "predicted_labels = []\n",
    "correct_labels = []\n",
    "total = 0\n",
    "\n",
    "correct_labels = []\n",
    "predicted_labels = []\n",
    "\n",
    "model.eval()\n",
    "with torch.no_grad():\n",
    "    for  i,(images,labels) in enumerate(data_test_loader):\n",
    "        outputs = model(images.to(device))\n",
    "        outputs = torch.argmax(functional.softmax(outputs),dim=1)\n",
    "        if predicted_labels==[]:\n",
    "            correct_labels=labels[:];\n",
    "            predicted_labels = outputs[:]\n",
    "\n",
    "        else:\n",
    "\n",
    "            correct_labels = torch.hstack([correct_labels,labels])\n",
    "            predicted_labels = torch.hstack([predicted_labels,outputs])\n"
   ],
   "metadata": {
    "collapsed": false,
    "pycharm": {
     "name": "#%%\n"
    }
   }
  },
  {
   "cell_type": "markdown",
   "source": [
    "<h3>Evaluation</h3>\n",
    "<p> Based on the above information, plotting a confusion matrix taking 'precision', 'recall', 'f1-score', 'support' into consideration for all 5 types of mask. </p>"
   ],
   "metadata": {
    "collapsed": false
   }
  },
  {
   "cell_type": "code",
   "execution_count": 12,
   "outputs": [
    {
     "name": "stdout",
     "output_type": "stream",
     "text": [
      "                precision    recall  f1-score   support\n",
      "\n",
      "    Cloth_Mask       0.95      0.87      0.91        99\n",
      "           N95       0.91      0.95      0.93        77\n",
      "N95_With_Valve       0.85      0.86      0.86        72\n",
      "       No_Mask       0.99      1.00      0.99        76\n",
      "      Surgical       0.90      0.93      0.92        89\n",
      "\n",
      "      accuracy                           0.92       413\n",
      "     macro avg       0.92      0.92      0.92       413\n",
      "  weighted avg       0.92      0.92      0.92       413\n",
      "\n"
     ]
    },
    {
     "data": {
      "text/plain": "<Figure size 432x288 with 2 Axes>",
      "image/png": "[encoded data removed]"
     },
     "metadata": {
      "needs_background": "light"
     },
     "output_type": "display_data"
    }
   ],
   "source": [
    "target_names = class_names\n",
    "labels_names = [0,1,2,3,4]\n",
    "print(classification_report(correct_labels, predicted_labels,labels=labels_names, target_names=target_names))\n",
    "cm = confusion_matrix(correct_labels, predicted_labels,labels=labels_names)\n",
    "disp = ConfusionMatrixDisplay(confusion_matrix=cm,display_labels=target_names)\n",
    "disp = disp.plot(cmap=plt.cm.Blues,values_format='g',xticks_rotation='vertical')\n",
    "plt.show()"
   ],
   "metadata": {
    "collapsed": false,
    "pycharm": {
     "name": "#%%\n"
    }
   }
  }
 ],
 "metadata": {
  "kernelspec": {
   "display_name": "Python 3",
   "language": "python",
   "name": "python3"
  },
  "language_info": {
   "codemirror_mode": {
    "name": "ipython",
    "version": 2
   },
   "file_extension": ".py",
   "mimetype": "text/x-python",
   "name": "python",
   "nbconvert_exporter": "python",
   "pygments_lexer": "ipython2",
   "version": "2.7.6"
  }
 },
 "nbformat": 4,
 "nbformat_minor": 0
}