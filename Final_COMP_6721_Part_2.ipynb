{
 "cells": [
  {
   "cell_type": "code",
   "execution_count": 29,
   "metadata": {
    "collapsed": true
   },
   "outputs": [],
   "source": [
    "import os\n",
    "from torch.nn import functional\n",
    "import torch\n",
    "from torchvision.transforms import Compose,Resize,Normalize,ToTensor\n",
    "from torchvision.datasets import ImageFolder\n",
    "from torch.utils.data import DataLoader\n",
    "import torch.optim as optim\n",
    "import torch.nn as nn\n",
    "from sklearn.metrics import precision_score, recall_score, f1_score,classification_report,ConfusionMatrixDisplay, confusion_matrix\n",
    "from sklearn.model_selection import KFold\n",
    "import warnings\n",
    "from tqdm.notebook import tqdm_notebook\n",
    "from matplotlib import pyplot as plt\n",
    "warnings.filterwarnings('ignore')"
   ]
  },
  {
   "cell_type": "code",
   "execution_count": 30,
   "outputs": [],
   "source": [
    "classes = {0:'Cloth_Mask', 1:'N-95', 2:'N-95 with valve', 3:'No_Mask',4:'Surgical_Mask'}\n",
    "target_names = ['Cloth_Mask', 'N95', 'N95_With_Valve', 'No_Mask', 'Surgical']\n",
    "labels_names = [0,1,2,3,4]\n",
    "mean=[0.485, 0.456, 0.406]\n",
    "std=[0.225, 0.225, 0.225]\n",
    "transformer = Compose([Resize((128,128)), ToTensor(), Normalize(mean=mean,std=std)])"
   ],
   "metadata": {
    "collapsed": false,
    "pycharm": {
     "name": "#%%\n"
    }
   }
  },
  {
   "cell_type": "code",
   "execution_count": 31,
   "outputs": [],
   "source": [
    "def evaluate_bias(path,category,model):\n",
    "    for sub_category in os.listdir(path):\n",
    "        print(f'Evaluating Bias on {category} Category: {sub_category}')\n",
    "        dataset = ImageFolder(root=os.path.join(path,sub_category),transform=transformer)\n",
    "        data_test_loader = DataLoader(dataset,batch_size=1)\n",
    "\n",
    "        correct_labels = []\n",
    "        predicted_labels = []\n",
    "\n",
    "        model.eval()\n",
    "        with torch.no_grad():\n",
    "            for  i,(images,labels) in enumerate(data_test_loader):\n",
    "                outputs = model(images.to(device))\n",
    "                outputs = torch.argmax(functional.softmax(outputs),dim=1)\n",
    "                if predicted_labels==[]:\n",
    "                    correct_labels=labels[:];\n",
    "                    predicted_labels = outputs[:]\n",
    "\n",
    "                else:\n",
    "\n",
    "                    correct_labels = torch.hstack([correct_labels,labels])\n",
    "                    predicted_labels = torch.hstack([predicted_labels,outputs])\n",
    "\n",
    "            cm = confusion_matrix(correct_labels, predicted_labels,labels=labels_names)\n",
    "            disp = ConfusionMatrixDisplay(confusion_matrix=cm,display_labels=target_names)\n",
    "            disp = disp.plot(cmap=plt.cm.Blues,values_format='g',xticks_rotation='vertical')\n",
    "            plt.show()\n",
    "            print(classification_report(correct_labels, predicted_labels,labels=labels_names,target_names=target_names))\n"
   ],
   "metadata": {
    "collapsed": false,
    "pycharm": {
     "name": "#%%\n"
    }
   }
  },
  {
   "cell_type": "markdown",
   "source": [
    "<h1>Loading old Model for Bias Testing</h1>"
   ],
   "metadata": {
    "collapsed": false
   }
  },
  {
   "cell_type": "code",
   "execution_count": 32,
   "outputs": [
    {
     "name": "stdout",
     "output_type": "stream",
     "text": [
      "CNN_Old(\n",
      "  (convolution_layers): Sequential(\n",
      "    (0): Conv2d(3, 32, kernel_size=(3, 3), stride=(1, 1), padding=(1, 1))\n",
      "    (1): Conv2d(32, 32, kernel_size=(3, 3), stride=(1, 1), padding=(1, 1))\n",
      "    (2): BatchNorm2d(32, eps=1e-05, momentum=0.1, affine=True, track_running_stats=True)\n",
      "    (3): LeakyReLU(negative_slope=0.01)\n",
      "    (4): MaxPool2d(kernel_size=(2, 2), stride=(2, 2), padding=0, dilation=1, ceil_mode=False)\n",
      "    (5): Conv2d(32, 64, kernel_size=(3, 3), stride=(1, 1), padding=(1, 1))\n",
      "    (6): Conv2d(64, 64, kernel_size=(3, 3), stride=(1, 1), padding=(1, 1))\n",
      "    (7): BatchNorm2d(64, eps=1e-05, momentum=0.1, affine=True, track_running_stats=True)\n",
      "    (8): LeakyReLU(negative_slope=0.01)\n",
      "    (9): MaxPool2d(kernel_size=(2, 2), stride=(2, 2), padding=0, dilation=1, ceil_mode=False)\n",
      "    (10): Conv2d(64, 128, kernel_size=(3, 3), stride=(1, 1), padding=(1, 1))\n",
      "    (11): Conv2d(128, 128, kernel_size=(3, 3), stride=(1, 1), padding=(1, 1))\n",
      "    (12): BatchNorm2d(128, eps=1e-05, momentum=0.1, affine=True, track_running_stats=True)\n",
      "    (13): LeakyReLU(negative_slope=0.01)\n",
      "    (14): MaxPool2d(kernel_size=(2, 2), stride=(2, 2), padding=0, dilation=1, ceil_mode=False)\n",
      "  )\n",
      "  (fully_connected_layers): Sequential(\n",
      "    (0): Linear(in_features=32768, out_features=50, bias=True)\n",
      "    (1): Linear(in_features=50, out_features=5, bias=True)\n",
      "  )\n",
      ")\n"
     ]
    },
    {
     "data": {
      "text/plain": "<All keys matched successfully>"
     },
     "execution_count": 32,
     "metadata": {},
     "output_type": "execute_result"
    }
   ],
   "source": [
    "from cnn_old import CNN_Old\n",
    "device = torch.device('cuda' if torch.cuda.is_available() else 'cpu')\n",
    "model_old = CNN_Old().to(device)\n",
    "print(model_old)\n",
    "model_old.load_state_dict(torch.load(\"CNN_old.data\"), strict=False)"
   ],
   "metadata": {
    "collapsed": false,
    "pycharm": {
     "name": "#%%\n"
    }
   }
  },
  {
   "cell_type": "markdown",
   "source": [
    "<h2>Bias Testing for Age</h2>"
   ],
   "metadata": {
    "collapsed": false
   }
  },
  {
   "cell_type": "code",
   "execution_count": 33,
   "outputs": [
    {
     "name": "stdout",
     "output_type": "stream",
     "text": [
      "Evaluating Bias on Age Category: Old\n"
     ]
    },
    {
     "data": {
      "text/plain": "<Figure size 432x288 with 2 Axes>",
      "image/png": "[encoded data removed]"
     },
     "metadata": {
      "needs_background": "light"
     },
     "output_type": "display_data"
    },
    {
     "name": "stdout",
     "output_type": "stream",
     "text": [
      "                precision    recall  f1-score   support\n",
      "\n",
      "    Cloth_Mask       1.00      0.60      0.75        10\n",
      "           N95       0.89      0.80      0.84        10\n",
      "N95_With_Valve       0.80      0.80      0.80        10\n",
      "       No_Mask       0.83      1.00      0.91        10\n",
      "      Surgical       0.77      1.00      0.87        10\n",
      "\n",
      "      accuracy                           0.84        50\n",
      "     macro avg       0.86      0.84      0.83        50\n",
      "  weighted avg       0.86      0.84      0.83        50\n",
      "\n",
      "Evaluating Bias on Age Category: Adult\n"
     ]
    },
    {
     "data": {
      "text/plain": "<Figure size 432x288 with 2 Axes>",
      "image/png": "[encoded data removed]"
     },
     "metadata": {
      "needs_background": "light"
     },
     "output_type": "display_data"
    },
    {
     "name": "stdout",
     "output_type": "stream",
     "text": [
      "                precision    recall  f1-score   support\n",
      "\n",
      "    Cloth_Mask       0.82      0.90      0.86        10\n",
      "           N95       1.00      0.80      0.89        10\n",
      "N95_With_Valve       0.77      1.00      0.87        10\n",
      "       No_Mask       1.00      0.90      0.95        10\n",
      "      Surgical       0.78      0.70      0.74        10\n",
      "\n",
      "      accuracy                           0.86        50\n",
      "     macro avg       0.87      0.86      0.86        50\n",
      "  weighted avg       0.87      0.86      0.86        50\n",
      "\n",
      "Evaluating Bias on Age Category: Children\n"
     ]
    },
    {
     "data": {
      "text/plain": "<Figure size 432x288 with 2 Axes>",
      "image/png": "[encoded data removed]"
     },
     "metadata": {
      "needs_background": "light"
     },
     "output_type": "display_data"
    },
    {
     "name": "stdout",
     "output_type": "stream",
     "text": [
      "                precision    recall  f1-score   support\n",
      "\n",
      "    Cloth_Mask       0.83      0.50      0.62        10\n",
      "           N95       0.83      1.00      0.91        10\n",
      "N95_With_Valve       0.54      0.70      0.61        10\n",
      "       No_Mask       1.00      0.90      0.95        10\n",
      "      Surgical       0.83      0.83      0.83        12\n",
      "\n",
      "      accuracy                           0.79        52\n",
      "     macro avg       0.81      0.79      0.78        52\n",
      "  weighted avg       0.81      0.79      0.79        52\n",
      "\n"
     ]
    }
   ],
   "source": [
    "img_path = 'Bias/Age'\n",
    "category = 'Age'\n",
    "evaluate_bias(img_path,category,model_old)"
   ],
   "metadata": {
    "collapsed": false,
    "pycharm": {
     "name": "#%%\n"
    }
   }
  },
  {
   "cell_type": "markdown",
   "source": [
    "<h2>Bias Testing for Gender</h2>"
   ],
   "metadata": {
    "collapsed": false
   }
  },
  {
   "cell_type": "code",
   "execution_count": 34,
   "outputs": [
    {
     "name": "stdout",
     "output_type": "stream",
     "text": [
      "Evaluating Bias on Gender Category: Male\n"
     ]
    },
    {
     "data": {
      "text/plain": "<Figure size 432x288 with 2 Axes>",
      "image/png": "[encoded data removed]"
     },
     "metadata": {
      "needs_background": "light"
     },
     "output_type": "display_data"
    },
    {
     "name": "stdout",
     "output_type": "stream",
     "text": [
      "                precision    recall  f1-score   support\n",
      "\n",
      "    Cloth_Mask       0.80      0.33      0.47        12\n",
      "           N95       0.83      0.83      0.83        12\n",
      "N95_With_Valve       0.69      0.92      0.79        12\n",
      "       No_Mask       1.00      1.00      1.00        12\n",
      "      Surgical       0.73      0.92      0.81        12\n",
      "\n",
      "      accuracy                           0.80        60\n",
      "     macro avg       0.81      0.80      0.78        60\n",
      "  weighted avg       0.81      0.80      0.78        60\n",
      "\n",
      "Evaluating Bias on Gender Category: Female\n"
     ]
    },
    {
     "data": {
      "text/plain": "<Figure size 432x288 with 2 Axes>",
      "image/png": "[encoded data removed]"
     },
     "metadata": {
      "needs_background": "light"
     },
     "output_type": "display_data"
    },
    {
     "name": "stdout",
     "output_type": "stream",
     "text": [
      "                precision    recall  f1-score   support\n",
      "\n",
      "    Cloth_Mask       0.90      0.75      0.82        12\n",
      "           N95       0.92      0.92      0.92        12\n",
      "N95_With_Valve       0.75      0.75      0.75        12\n",
      "       No_Mask       1.00      1.00      1.00        12\n",
      "      Surgical       0.79      0.92      0.85        12\n",
      "\n",
      "      accuracy                           0.87        60\n",
      "     macro avg       0.87      0.87      0.87        60\n",
      "  weighted avg       0.87      0.87      0.87        60\n",
      "\n"
     ]
    }
   ],
   "source": [
    "img_path = 'Bias/Gender'\n",
    "category = 'Gender'\n",
    "evaluate_bias(img_path,category,model_old)"
   ],
   "metadata": {
    "collapsed": false,
    "pycharm": {
     "name": "#%%\n"
    }
   }
  },
  {
   "cell_type": "markdown",
   "source": [
    "<h1>Loading New Model </h1>"
   ],
   "metadata": {
    "collapsed": false
   }
  },
  {
   "cell_type": "code",
   "execution_count": 35,
   "outputs": [
    {
     "name": "stdout",
     "output_type": "stream",
     "text": [
      "CNN_New(\n",
      "  (convolution_layers): Sequential(\n",
      "    (0): Conv2d(3, 32, kernel_size=(3, 3), stride=(1, 1), padding=(1, 1))\n",
      "    (1): BatchNorm2d(32, eps=1e-05, momentum=0.1, affine=True, track_running_stats=True)\n",
      "    (2): LeakyReLU(negative_slope=0.01)\n",
      "    (3): MaxPool2d(kernel_size=(2, 2), stride=(2, 2), padding=0, dilation=1, ceil_mode=False)\n",
      "    (4): Conv2d(32, 64, kernel_size=(3, 3), stride=(1, 1), padding=(1, 1))\n",
      "    (5): BatchNorm2d(64, eps=1e-05, momentum=0.1, affine=True, track_running_stats=True)\n",
      "    (6): LeakyReLU(negative_slope=0.01)\n",
      "    (7): MaxPool2d(kernel_size=(2, 2), stride=(2, 2), padding=0, dilation=1, ceil_mode=False)\n",
      "    (8): Conv2d(64, 128, kernel_size=(3, 3), stride=(1, 1), padding=(1, 1))\n",
      "    (9): BatchNorm2d(128, eps=1e-05, momentum=0.1, affine=True, track_running_stats=True)\n",
      "    (10): LeakyReLU(negative_slope=0.01)\n",
      "    (11): MaxPool2d(kernel_size=(2, 2), stride=(2, 2), padding=0, dilation=1, ceil_mode=False)\n",
      "  )\n",
      "  (fully_connected_layers): Sequential(\n",
      "    (0): Linear(in_features=32768, out_features=50, bias=True)\n",
      "    (1): Linear(in_features=50, out_features=5, bias=True)\n",
      "  )\n",
      ")\n"
     ]
    },
    {
     "data": {
      "text/plain": "<All keys matched successfully>"
     },
     "execution_count": 35,
     "metadata": {},
     "output_type": "execute_result"
    }
   ],
   "source": [
    "from cnn_new import CNN_New\n",
    "model_new = CNN_New().to(device)\n",
    "print(model_new)\n",
    "model_new.load_state_dict(torch.load(\"CNN_new.data\"), strict=False)"
   ],
   "metadata": {
    "collapsed": false,
    "pycharm": {
     "name": "#%%\n"
    }
   }
  },
  {
   "cell_type": "markdown",
   "source": [
    "<h1>Bias Testing for Age (New Model)</h2>"
   ],
   "metadata": {
    "collapsed": false
   }
  },
  {
   "cell_type": "code",
   "execution_count": 36,
   "outputs": [
    {
     "name": "stdout",
     "output_type": "stream",
     "text": [
      "Evaluating Bias on Age Category: Old\n"
     ]
    },
    {
     "data": {
      "text/plain": "<Figure size 432x288 with 2 Axes>",
      "image/png": "[encoded data removed]"
     },
     "metadata": {
      "needs_background": "light"
     },
     "output_type": "display_data"
    },
    {
     "name": "stdout",
     "output_type": "stream",
     "text": [
      "                precision    recall  f1-score   support\n",
      "\n",
      "    Cloth_Mask       1.00      0.80      0.89        10\n",
      "           N95       0.83      1.00      0.91        10\n",
      "N95_With_Valve       1.00      0.80      0.89        10\n",
      "       No_Mask       0.91      1.00      0.95        10\n",
      "      Surgical       0.91      1.00      0.95        10\n",
      "\n",
      "      accuracy                           0.92        50\n",
      "     macro avg       0.93      0.92      0.92        50\n",
      "  weighted avg       0.93      0.92      0.92        50\n",
      "\n",
      "Evaluating Bias on Age Category: Adult\n"
     ]
    },
    {
     "data": {
      "text/plain": "<Figure size 432x288 with 2 Axes>",
      "image/png": "[encoded data removed]"
     },
     "metadata": {
      "needs_background": "light"
     },
     "output_type": "display_data"
    },
    {
     "name": "stdout",
     "output_type": "stream",
     "text": [
      "                precision    recall  f1-score   support\n",
      "\n",
      "    Cloth_Mask       1.00      1.00      1.00        10\n",
      "           N95       1.00      1.00      1.00        10\n",
      "N95_With_Valve       0.83      1.00      0.91        10\n",
      "       No_Mask       1.00      1.00      1.00        10\n",
      "      Surgical       1.00      0.80      0.89        10\n",
      "\n",
      "      accuracy                           0.96        50\n",
      "     macro avg       0.97      0.96      0.96        50\n",
      "  weighted avg       0.97      0.96      0.96        50\n",
      "\n",
      "Evaluating Bias on Age Category: Children\n"
     ]
    },
    {
     "data": {
      "text/plain": "<Figure size 432x288 with 2 Axes>",
      "image/png": "[encoded data removed]"
     },
     "metadata": {
      "needs_background": "light"
     },
     "output_type": "display_data"
    },
    {
     "name": "stdout",
     "output_type": "stream",
     "text": [
      "                precision    recall  f1-score   support\n",
      "\n",
      "    Cloth_Mask       0.83      0.50      0.62        10\n",
      "           N95       0.67      1.00      0.80        10\n",
      "N95_With_Valve       0.70      0.70      0.70        10\n",
      "       No_Mask       1.00      0.90      0.95        10\n",
      "      Surgical       0.83      0.83      0.83        12\n",
      "\n",
      "      accuracy                           0.79        52\n",
      "     macro avg       0.81      0.79      0.78        52\n",
      "  weighted avg       0.81      0.79      0.78        52\n",
      "\n"
     ]
    }
   ],
   "source": [
    "img_path = 'Bias/Age'\n",
    "category = 'Age'\n",
    "evaluate_bias(img_path,category,model_new)"
   ],
   "metadata": {
    "collapsed": false,
    "pycharm": {
     "name": "#%%\n"
    }
   }
  },
  {
   "cell_type": "markdown",
   "source": [
    "<h2>Bias Testing for Gender (New Model)</h2>"
   ],
   "metadata": {
    "collapsed": false
   }
  },
  {
   "cell_type": "code",
   "execution_count": 37,
   "outputs": [
    {
     "name": "stdout",
     "output_type": "stream",
     "text": [
      "Evaluating Bias on Gender Category: Male\n"
     ]
    },
    {
     "data": {
      "text/plain": "<Figure size 432x288 with 2 Axes>",
      "image/png": "[encoded data removed]"
     },
     "metadata": {
      "needs_background": "light"
     },
     "output_type": "display_data"
    },
    {
     "name": "stdout",
     "output_type": "stream",
     "text": [
      "                precision    recall  f1-score   support\n",
      "\n",
      "    Cloth_Mask       0.89      0.67      0.76        12\n",
      "           N95       0.80      1.00      0.89        12\n",
      "N95_With_Valve       0.83      0.83      0.83        12\n",
      "       No_Mask       1.00      0.92      0.96        12\n",
      "      Surgical       0.85      0.92      0.88        12\n",
      "\n",
      "      accuracy                           0.87        60\n",
      "     macro avg       0.87      0.87      0.86        60\n",
      "  weighted avg       0.87      0.87      0.86        60\n",
      "\n",
      "Evaluating Bias on Gender Category: Female\n"
     ]
    },
    {
     "data": {
      "text/plain": "<Figure size 432x288 with 2 Axes>",
      "image/png": "[encoded data removed]"
     },
     "metadata": {
      "needs_background": "light"
     },
     "output_type": "display_data"
    },
    {
     "name": "stdout",
     "output_type": "stream",
     "text": [
      "                precision    recall  f1-score   support\n",
      "\n",
      "    Cloth_Mask       0.89      0.67      0.76        12\n",
      "           N95       0.73      0.92      0.81        12\n",
      "N95_With_Valve       0.82      0.75      0.78        12\n",
      "       No_Mask       1.00      1.00      1.00        12\n",
      "      Surgical       0.85      0.92      0.88        12\n",
      "\n",
      "      accuracy                           0.85        60\n",
      "     macro avg       0.86      0.85      0.85        60\n",
      "  weighted avg       0.86      0.85      0.85        60\n",
      "\n"
     ]
    }
   ],
   "source": [
    "img_path = 'Bias/Gender'\n",
    "category = 'Gender'\n",
    "evaluate_bias(img_path,category,model_new)"
   ],
   "metadata": {
    "collapsed": false,
    "pycharm": {
     "name": "#%%\n"
    }
   }
  },
  {
   "cell_type": "markdown",
   "source": [
    "<h1>K-Fold</h1>"
   ],
   "metadata": {
    "collapsed": false
   }
  },
  {
   "cell_type": "code",
   "execution_count": 38,
   "outputs": [],
   "source": [
    "epochs = 20\n",
    "folds = 10\n",
    "batch_size = 32\n",
    "learning_rate = 0.001\n",
    "data_path = 'Project_Dataset_2'"
   ],
   "metadata": {
    "collapsed": false,
    "pycharm": {
     "name": "#%%\n"
    }
   }
  },
  {
   "cell_type": "code",
   "execution_count": 39,
   "outputs": [
    {
     "name": "stdout",
     "output_type": "stream",
     "text": [
      "Fold 1 training in progress...\n"
     ]
    },
    {
     "data": {
      "text/plain": "Fold 1, Epochs Completed :   0%|          | 0/20 [00:00<?, ?it/s]",
      "application/vnd.jupyter.widget-view+json": {
       "version_major": 2,
       "version_minor": 0,
       "model_id": "6b038f597ba44f968e096d1360eb3dc7"
      }
     },
     "metadata": {},
     "output_type": "display_data"
    },
    {
     "name": "stdout",
     "output_type": "stream",
     "text": [
      "\tEpoch - 1, Training Loss : 0.0 \n",
      "\tEpoch - 2, Training Loss : 27.6801815032959 \n",
      "\tEpoch - 3, Training Loss : 7.683254079893231e-05 \n",
      "\tEpoch - 4, Training Loss : 5.451854705810547 \n",
      "\tEpoch - 5, Training Loss : 0.10030167549848557 \n",
      "\tEpoch - 6, Training Loss : 0.38973262906074524 \n",
      "\tEpoch - 7, Training Loss : 0.3598671853542328 \n",
      "\tEpoch - 8, Training Loss : 0.1128820851445198 \n",
      "\tEpoch - 9, Training Loss : 0.417525053024292 \n",
      "\tEpoch - 10, Training Loss : 0.34577617049217224 \n",
      "\tEpoch - 11, Training Loss : 0.33266159892082214 \n",
      "\tEpoch - 12, Training Loss : 0.2741755545139313 \n",
      "\tEpoch - 13, Training Loss : 0.19339191913604736 \n",
      "\tEpoch - 14, Training Loss : 0.16764581203460693 \n",
      "\tEpoch - 15, Training Loss : 0.17417186498641968 \n",
      "\tEpoch - 16, Training Loss : 0.18281449377536774 \n",
      "\tEpoch - 17, Training Loss : 0.18885570764541626 \n",
      "\tEpoch - 18, Training Loss : 0.23298631608486176 \n",
      "\tEpoch - 19, Training Loss : 0.26329463720321655 \n",
      "\tEpoch - 20, Training Loss : 0.2601678669452667 \n",
      "\n",
      "Fold 1 Classification Report : \n",
      "                precision    recall  f1-score   support\n",
      "\n",
      "    Cloth_Mask       0.00      0.00      0.00        40\n",
      "           N95       0.71      0.11      0.20        44\n",
      "N95_With_Valve       0.54      0.49      0.51        41\n",
      "       No_Mask       0.95      0.49      0.65        43\n",
      "      Surgical       0.23      0.82      0.36        39\n",
      "\n",
      "      accuracy                           0.38       207\n",
      "     macro avg       0.49      0.38      0.34       207\n",
      "  weighted avg       0.50      0.38      0.35       207\n",
      "\n",
      "Fold 2 training in progress...\n"
     ]
    },
    {
     "data": {
      "text/plain": "Fold 2, Epochs Completed :   0%|          | 0/20 [00:00<?, ?it/s]",
      "application/vnd.jupyter.widget-view+json": {
       "version_major": 2,
       "version_minor": 0,
       "model_id": "a8afa72c4c8745339736ce63b84f2172"
      }
     },
     "metadata": {},
     "output_type": "display_data"
    },
    {
     "name": "stdout",
     "output_type": "stream",
     "text": [
      "\tEpoch - 1, Training Loss : 0.0 \n",
      "\tEpoch - 2, Training Loss : 6.675125598907471 \n",
      "\tEpoch - 3, Training Loss : 3.433006525039673 \n",
      "\tEpoch - 4, Training Loss : 0.0010338412830606103 \n",
      "\tEpoch - 5, Training Loss : 0.7810182571411133 \n",
      "\tEpoch - 6, Training Loss : 1.8922706842422485 \n",
      "\tEpoch - 7, Training Loss : 0.7557776570320129 \n",
      "\tEpoch - 8, Training Loss : 0.38835132122039795 \n",
      "\tEpoch - 9, Training Loss : 0.7680466175079346 \n",
      "\tEpoch - 10, Training Loss : 1.2363591194152832 \n",
      "\tEpoch - 11, Training Loss : 0.9796113967895508 \n",
      "\tEpoch - 12, Training Loss : 0.7550843358039856 \n",
      "\tEpoch - 13, Training Loss : 0.7384372353553772 \n",
      "\tEpoch - 14, Training Loss : 0.7788452506065369 \n",
      "\tEpoch - 15, Training Loss : 0.7226400375366211 \n",
      "\tEpoch - 16, Training Loss : 0.6703231930732727 \n",
      "\tEpoch - 17, Training Loss : 0.6298763155937195 \n",
      "\tEpoch - 18, Training Loss : 0.5964928269386292 \n",
      "\tEpoch - 19, Training Loss : 0.5685757994651794 \n",
      "\tEpoch - 20, Training Loss : 0.5434222221374512 \n",
      "\n",
      "Fold 2 Classification Report : \n",
      "                precision    recall  f1-score   support\n",
      "\n",
      "    Cloth_Mask       0.88      0.12      0.21        59\n",
      "           N95       0.41      0.35      0.38        34\n",
      "N95_With_Valve       0.43      0.37      0.40        35\n",
      "       No_Mask       0.71      0.89      0.79        38\n",
      "      Surgical       0.33      0.73      0.45        41\n",
      "\n",
      "      accuracy                           0.46       207\n",
      "     macro avg       0.55      0.49      0.45       207\n",
      "  weighted avg       0.59      0.46      0.42       207\n",
      "\n",
      "Fold 3 training in progress...\n"
     ]
    },
    {
     "data": {
      "text/plain": "Fold 3, Epochs Completed :   0%|          | 0/20 [00:00<?, ?it/s]",
      "application/vnd.jupyter.widget-view+json": {
       "version_major": 2,
       "version_minor": 0,
       "model_id": "82b163b0388a4b258a16c53b12abe21f"
      }
     },
     "metadata": {},
     "output_type": "display_data"
    },
    {
     "name": "stdout",
     "output_type": "stream",
     "text": [
      "\tEpoch - 1, Training Loss : 0.0 \n",
      "\tEpoch - 2, Training Loss : 12.071097373962402 \n",
      "\tEpoch - 3, Training Loss : 0.00020190246868878603 \n",
      "\tEpoch - 4, Training Loss : 0.13023830950260162 \n",
      "\tEpoch - 5, Training Loss : 1.875820517539978 \n",
      "\tEpoch - 6, Training Loss : 0.7539131045341492 \n",
      "\tEpoch - 7, Training Loss : 0.14939601719379425 \n",
      "\tEpoch - 8, Training Loss : 0.12420418858528137 \n",
      "\tEpoch - 9, Training Loss : 0.2584855258464813 \n",
      "\tEpoch - 10, Training Loss : 0.22376056015491486 \n",
      "\tEpoch - 11, Training Loss : 0.4877474308013916 \n",
      "\tEpoch - 12, Training Loss : 0.3076375424861908 \n",
      "\tEpoch - 13, Training Loss : 0.2477024793624878 \n",
      "\tEpoch - 14, Training Loss : 0.20676060020923615 \n",
      "\tEpoch - 15, Training Loss : 0.23223793506622314 \n",
      "\tEpoch - 16, Training Loss : 0.20457737147808075 \n",
      "\tEpoch - 17, Training Loss : 0.1945921778678894 \n",
      "\tEpoch - 18, Training Loss : 0.17122529447078705 \n",
      "\tEpoch - 19, Training Loss : 0.1504715234041214 \n",
      "\tEpoch - 20, Training Loss : 0.15288762748241425 \n",
      "\n",
      "Fold 3 Classification Report : \n",
      "                precision    recall  f1-score   support\n",
      "\n",
      "    Cloth_Mask       0.60      0.14      0.23        42\n",
      "           N95       0.17      0.03      0.05        38\n",
      "N95_With_Valve       0.70      0.38      0.49        42\n",
      "       No_Mask       0.94      0.31      0.47        48\n",
      "      Surgical       0.22      0.92      0.36        37\n",
      "\n",
      "      accuracy                           0.35       207\n",
      "     macro avg       0.52      0.36      0.32       207\n",
      "  weighted avg       0.55      0.35      0.33       207\n",
      "\n",
      "Fold 4 training in progress...\n"
     ]
    },
    {
     "data": {
      "text/plain": "Fold 4, Epochs Completed :   0%|          | 0/20 [00:00<?, ?it/s]",
      "application/vnd.jupyter.widget-view+json": {
       "version_major": 2,
       "version_minor": 0,
       "model_id": "5b4c665d58ec40b5b2ae148f1fb95eb0"
      }
     },
     "metadata": {},
     "output_type": "display_data"
    },
    {
     "name": "stdout",
     "output_type": "stream",
     "text": [
      "\tEpoch - 1, Training Loss : 0.0 \n",
      "\tEpoch - 2, Training Loss : 27.77010154724121 \n",
      "\tEpoch - 3, Training Loss : 0.0 \n",
      "\tEpoch - 4, Training Loss : 0.0006454495014622808 \n",
      "\tEpoch - 5, Training Loss : 1.675850510597229 \n",
      "\tEpoch - 6, Training Loss : 1.4796819686889648 \n",
      "\tEpoch - 7, Training Loss : 1.5299941301345825 \n",
      "\tEpoch - 8, Training Loss : 0.9755957722663879 \n",
      "\tEpoch - 9, Training Loss : 0.45187053084373474 \n",
      "\tEpoch - 10, Training Loss : 0.4135577976703644 \n",
      "\tEpoch - 11, Training Loss : 0.434556245803833 \n",
      "\tEpoch - 12, Training Loss : 0.46622908115386963 \n",
      "\tEpoch - 13, Training Loss : 0.4926782548427582 \n",
      "\tEpoch - 14, Training Loss : 0.4968794286251068 \n",
      "\tEpoch - 15, Training Loss : 0.47744521498680115 \n",
      "\tEpoch - 16, Training Loss : 0.443968266248703 \n",
      "\tEpoch - 17, Training Loss : 0.4116877615451813 \n",
      "\tEpoch - 18, Training Loss : 0.3927057087421417 \n",
      "\tEpoch - 19, Training Loss : 0.39126405119895935 \n",
      "\tEpoch - 20, Training Loss : 0.4040059745311737 \n",
      "\n",
      "Fold 4 Classification Report : \n",
      "                precision    recall  f1-score   support\n",
      "\n",
      "    Cloth_Mask       0.50      0.10      0.17        40\n",
      "           N95       0.34      0.24      0.28        46\n",
      "N95_With_Valve       0.38      0.42      0.40        40\n",
      "       No_Mask       0.83      0.14      0.24        36\n",
      "      Surgical       0.37      0.96      0.53        45\n",
      "\n",
      "      accuracy                           0.39       207\n",
      "     macro avg       0.49      0.37      0.32       207\n",
      "  weighted avg       0.47      0.39      0.33       207\n",
      "\n",
      "Fold 5 training in progress...\n"
     ]
    },
    {
     "data": {
      "text/plain": "Fold 5, Epochs Completed :   0%|          | 0/20 [00:00<?, ?it/s]",
      "application/vnd.jupyter.widget-view+json": {
       "version_major": 2,
       "version_minor": 0,
       "model_id": "d1f2c80711c842ff8ca3be16a28c9030"
      }
     },
     "metadata": {},
     "output_type": "display_data"
    },
    {
     "name": "stdout",
     "output_type": "stream",
     "text": [
      "\tEpoch - 1, Training Loss : 0.0 \n",
      "\tEpoch - 2, Training Loss : 18.001497268676758 \n",
      "\tEpoch - 3, Training Loss : 0.005361445248126984 \n",
      "\tEpoch - 4, Training Loss : 0.3353956639766693 \n",
      "\tEpoch - 5, Training Loss : 0.1355697065591812 \n",
      "\tEpoch - 6, Training Loss : 0.5036984086036682 \n",
      "\tEpoch - 7, Training Loss : 0.7881222367286682 \n",
      "\tEpoch - 8, Training Loss : 0.8813843727111816 \n",
      "\tEpoch - 9, Training Loss : 0.6185383200645447 \n",
      "\tEpoch - 10, Training Loss : 0.6214194297790527 \n",
      "\tEpoch - 11, Training Loss : 0.7784602046012878 \n",
      "\tEpoch - 12, Training Loss : 0.7031140923500061 \n",
      "\tEpoch - 13, Training Loss : 0.6537095308303833 \n",
      "\tEpoch - 14, Training Loss : 0.6476410031318665 \n",
      "\tEpoch - 15, Training Loss : 0.6408202648162842 \n",
      "\tEpoch - 16, Training Loss : 0.6146745681762695 \n",
      "\tEpoch - 17, Training Loss : 0.6001867651939392 \n",
      "\tEpoch - 18, Training Loss : 0.5727673172950745 \n",
      "\tEpoch - 19, Training Loss : 0.5137391090393066 \n",
      "\tEpoch - 20, Training Loss : 0.4721308946609497 \n",
      "\n",
      "Fold 5 Classification Report : \n",
      "                precision    recall  f1-score   support\n",
      "\n",
      "    Cloth_Mask       0.82      0.23      0.36        39\n",
      "           N95       0.52      0.38      0.43        40\n",
      "N95_With_Valve       0.54      0.51      0.52        43\n",
      "       No_Mask       0.69      0.76      0.72        41\n",
      "      Surgical       0.41      0.75      0.53        44\n",
      "\n",
      "      accuracy                           0.53       207\n",
      "     macro avg       0.59      0.52      0.51       207\n",
      "  weighted avg       0.59      0.53      0.52       207\n",
      "\n",
      "Fold 6 training in progress...\n"
     ]
    },
    {
     "data": {
      "text/plain": "Fold 6, Epochs Completed :   0%|          | 0/20 [00:00<?, ?it/s]",
      "application/vnd.jupyter.widget-view+json": {
       "version_major": 2,
       "version_minor": 0,
       "model_id": "caf3531f0e814ef09c38d558cb6bae3c"
      }
     },
     "metadata": {},
     "output_type": "display_data"
    },
    {
     "name": "stdout",
     "output_type": "stream",
     "text": [
      "\tEpoch - 1, Training Loss : 0.0 \n",
      "\tEpoch - 2, Training Loss : 49.62771224975586 \n",
      "\tEpoch - 3, Training Loss : 0.00019734387751668692 \n",
      "\tEpoch - 4, Training Loss : 0.05755135416984558 \n",
      "\tEpoch - 5, Training Loss : 0.08503741770982742 \n",
      "\tEpoch - 6, Training Loss : 1.824154019355774 \n",
      "\tEpoch - 7, Training Loss : 1.1705869436264038 \n",
      "\tEpoch - 8, Training Loss : 0.5694793462753296 \n",
      "\tEpoch - 9, Training Loss : 0.7593939304351807 \n",
      "\tEpoch - 10, Training Loss : 0.8131851553916931 \n",
      "\tEpoch - 11, Training Loss : 1.0214418172836304 \n",
      "\tEpoch - 12, Training Loss : 0.9540000557899475 \n",
      "\tEpoch - 13, Training Loss : 0.7497559189796448 \n",
      "\tEpoch - 14, Training Loss : 0.6806486248970032 \n",
      "\tEpoch - 15, Training Loss : 0.6434162259101868 \n",
      "\tEpoch - 16, Training Loss : 0.6702654957771301 \n",
      "\tEpoch - 17, Training Loss : 0.7221338152885437 \n",
      "\tEpoch - 18, Training Loss : 0.6580625772476196 \n",
      "\tEpoch - 19, Training Loss : 0.6869376301765442 \n",
      "\tEpoch - 20, Training Loss : 0.606464684009552 \n",
      "\n",
      "Fold 6 Classification Report : \n",
      "                precision    recall  f1-score   support\n",
      "\n",
      "    Cloth_Mask       0.17      0.03      0.05        38\n",
      "           N95       0.38      0.13      0.20        45\n",
      "N95_With_Valve       0.56      0.61      0.58        41\n",
      "       No_Mask       0.46      0.38      0.41        32\n",
      "      Surgical       0.33      0.75      0.46        51\n",
      "\n",
      "      accuracy                           0.40       207\n",
      "     macro avg       0.38      0.38      0.34       207\n",
      "  weighted avg       0.38      0.40      0.34       207\n",
      "\n",
      "Fold 7 training in progress...\n"
     ]
    },
    {
     "data": {
      "text/plain": "Fold 7, Epochs Completed :   0%|          | 0/20 [00:00<?, ?it/s]",
      "application/vnd.jupyter.widget-view+json": {
       "version_major": 2,
       "version_minor": 0,
       "model_id": "6b1e407bf7d2464ba14470c383b84bf3"
      }
     },
     "metadata": {},
     "output_type": "display_data"
    },
    {
     "name": "stdout",
     "output_type": "stream",
     "text": [
      "\tEpoch - 1, Training Loss : 0.0 \n",
      "\tEpoch - 2, Training Loss : 14.782822608947754 \n",
      "\tEpoch - 3, Training Loss : 0.0010965002002194524 \n",
      "\tEpoch - 4, Training Loss : 0.07008928060531616 \n",
      "\tEpoch - 5, Training Loss : 3.588977813720703 \n",
      "\tEpoch - 6, Training Loss : 1.7240902185440063 \n",
      "\tEpoch - 7, Training Loss : 0.933124840259552 \n",
      "\tEpoch - 8, Training Loss : 0.0011910152388736606 \n",
      "\tEpoch - 9, Training Loss : 0.4672721326351166 \n",
      "\tEpoch - 10, Training Loss : 0.8507615923881531 \n",
      "\tEpoch - 11, Training Loss : 0.8302358984947205 \n",
      "\tEpoch - 12, Training Loss : 0.5295619964599609 \n",
      "\tEpoch - 13, Training Loss : 0.44778403639793396 \n",
      "\tEpoch - 14, Training Loss : 0.4512101411819458 \n",
      "\tEpoch - 15, Training Loss : 0.47871407866477966 \n",
      "\tEpoch - 16, Training Loss : 0.485918253660202 \n",
      "\tEpoch - 17, Training Loss : 0.49445223808288574 \n",
      "\tEpoch - 18, Training Loss : 0.49694594740867615 \n",
      "\tEpoch - 19, Training Loss : 0.47956380248069763 \n",
      "\tEpoch - 20, Training Loss : 0.4538688659667969 \n",
      "\n",
      "Fold 7 Classification Report : \n",
      "                precision    recall  f1-score   support\n",
      "\n",
      "    Cloth_Mask       0.33      0.07      0.11        44\n",
      "           N95       0.55      0.33      0.42        48\n",
      "N95_With_Valve       0.49      0.60      0.54        40\n",
      "       No_Mask       0.65      0.78      0.71        41\n",
      "      Surgical       0.31      0.65      0.42        34\n",
      "\n",
      "      accuracy                           0.47       207\n",
      "     macro avg       0.47      0.49      0.44       207\n",
      "  weighted avg       0.47      0.47      0.43       207\n",
      "\n",
      "Fold 8 training in progress...\n"
     ]
    },
    {
     "data": {
      "text/plain": "Fold 8, Epochs Completed :   0%|          | 0/20 [00:00<?, ?it/s]",
      "application/vnd.jupyter.widget-view+json": {
       "version_major": 2,
       "version_minor": 0,
       "model_id": "587fd764e7ba4d6d92c01356442f742c"
      }
     },
     "metadata": {},
     "output_type": "display_data"
    },
    {
     "name": "stdout",
     "output_type": "stream",
     "text": [
      "\tEpoch - 1, Training Loss : 0.0 \n",
      "\tEpoch - 2, Training Loss : 35.595314025878906 \n",
      "\tEpoch - 3, Training Loss : 0.12027717381715775 \n",
      "\tEpoch - 4, Training Loss : 0.0001556545466883108 \n",
      "\tEpoch - 5, Training Loss : 0.16317762434482574 \n",
      "\tEpoch - 6, Training Loss : 1.488587498664856 \n",
      "\tEpoch - 7, Training Loss : 0.7485103607177734 \n",
      "\tEpoch - 8, Training Loss : 0.5160831212997437 \n",
      "\tEpoch - 9, Training Loss : 0.4097784757614136 \n",
      "\tEpoch - 10, Training Loss : 0.374076247215271 \n",
      "\tEpoch - 11, Training Loss : 0.34443601965904236 \n",
      "\tEpoch - 12, Training Loss : 0.3330038785934448 \n",
      "\tEpoch - 13, Training Loss : 0.3352780044078827 \n",
      "\tEpoch - 14, Training Loss : 0.3575097322463989 \n",
      "\tEpoch - 15, Training Loss : 0.3889467716217041 \n",
      "\tEpoch - 16, Training Loss : 0.4223599433898926 \n",
      "\tEpoch - 17, Training Loss : 0.4477786123752594 \n",
      "\tEpoch - 18, Training Loss : 0.46128496527671814 \n",
      "\tEpoch - 19, Training Loss : 0.45903778076171875 \n",
      "\tEpoch - 20, Training Loss : 0.4476141631603241 \n",
      "\n",
      "Fold 8 Classification Report : \n",
      "                precision    recall  f1-score   support\n",
      "\n",
      "    Cloth_Mask       0.67      0.21      0.31        39\n",
      "           N95       0.56      0.21      0.31        42\n",
      "N95_With_Valve       0.41      0.58      0.48        36\n",
      "       No_Mask       0.92      0.84      0.88        43\n",
      "      Surgical       0.34      0.64      0.44        47\n",
      "\n",
      "      accuracy                           0.50       207\n",
      "     macro avg       0.58      0.50      0.49       207\n",
      "  weighted avg       0.58      0.50      0.49       207\n",
      "\n",
      "Fold 9 training in progress...\n"
     ]
    },
    {
     "data": {
      "text/plain": "Fold 9, Epochs Completed :   0%|          | 0/20 [00:00<?, ?it/s]",
      "application/vnd.jupyter.widget-view+json": {
       "version_major": 2,
       "version_minor": 0,
       "model_id": "bdb48aecfd7c4c93a1ec2f47024074fa"
      }
     },
     "metadata": {},
     "output_type": "display_data"
    },
    {
     "name": "stdout",
     "output_type": "stream",
     "text": [
      "\tEpoch - 1, Training Loss : 0.0 \n",
      "\tEpoch - 2, Training Loss : 34.350704193115234 \n",
      "\tEpoch - 3, Training Loss : 2.0957229137420654 \n",
      "\tEpoch - 4, Training Loss : 0.35985901951789856 \n",
      "\tEpoch - 5, Training Loss : 0.13999642431735992 \n",
      "\tEpoch - 6, Training Loss : 0.9557932019233704 \n",
      "\tEpoch - 7, Training Loss : 0.5411637425422668 \n",
      "\tEpoch - 8, Training Loss : 0.5343061089515686 \n",
      "\tEpoch - 9, Training Loss : 0.3804568946361542 \n",
      "\tEpoch - 10, Training Loss : 0.07461877167224884 \n",
      "\tEpoch - 11, Training Loss : 0.27964648604393005 \n",
      "\tEpoch - 12, Training Loss : 0.17356537282466888 \n",
      "\tEpoch - 13, Training Loss : 0.14945587515830994 \n",
      "\tEpoch - 14, Training Loss : 0.1398913413286209 \n",
      "\tEpoch - 15, Training Loss : 0.15668627619743347 \n",
      "\tEpoch - 16, Training Loss : 0.21646547317504883 \n",
      "\tEpoch - 17, Training Loss : 0.25075826048851013 \n",
      "\tEpoch - 18, Training Loss : 0.2415151745080948 \n",
      "\tEpoch - 19, Training Loss : 0.2145855873823166 \n",
      "\tEpoch - 20, Training Loss : 0.17924147844314575 \n",
      "\n",
      "Fold 9 Classification Report : \n",
      "                precision    recall  f1-score   support\n",
      "\n",
      "    Cloth_Mask       0.63      0.49      0.55        39\n",
      "           N95       0.25      0.11      0.15        38\n",
      "N95_With_Valve       0.68      0.46      0.55        37\n",
      "       No_Mask       1.00      0.75      0.85        51\n",
      "      Surgical       0.32      0.74      0.44        42\n",
      "\n",
      "      accuracy                           0.53       207\n",
      "     macro avg       0.58      0.51      0.51       207\n",
      "  weighted avg       0.60      0.53      0.53       207\n",
      "\n",
      "Fold 10 training in progress...\n"
     ]
    },
    {
     "data": {
      "text/plain": "Fold 10, Epochs Completed :   0%|          | 0/20 [00:00<?, ?it/s]",
      "application/vnd.jupyter.widget-view+json": {
       "version_major": 2,
       "version_minor": 0,
       "model_id": "8e7eb30ad10f46d38a440e48cea06f0b"
      }
     },
     "metadata": {},
     "output_type": "display_data"
    },
    {
     "name": "stdout",
     "output_type": "stream",
     "text": [
      "\tEpoch - 1, Training Loss : 0.0 \n",
      "\tEpoch - 2, Training Loss : 11.708470344543457 \n",
      "\tEpoch - 3, Training Loss : 0.28435617685317993 \n",
      "\tEpoch - 4, Training Loss : 0.8334217667579651 \n",
      "\tEpoch - 5, Training Loss : 2.1923203468322754 \n",
      "\tEpoch - 6, Training Loss : 1.4225246906280518 \n",
      "\tEpoch - 7, Training Loss : 0.7770543694496155 \n",
      "\tEpoch - 8, Training Loss : 0.7269843220710754 \n",
      "\tEpoch - 9, Training Loss : 0.5214863419532776 \n",
      "\tEpoch - 10, Training Loss : 0.5104346871376038 \n",
      "\tEpoch - 11, Training Loss : 0.5493823885917664 \n",
      "\tEpoch - 12, Training Loss : 0.7069334387779236 \n",
      "\tEpoch - 13, Training Loss : 0.7601849436759949 \n",
      "\tEpoch - 14, Training Loss : 0.6200411915779114 \n",
      "\tEpoch - 15, Training Loss : 0.5398157238960266 \n",
      "\tEpoch - 16, Training Loss : 0.44690030813217163 \n",
      "\tEpoch - 17, Training Loss : 0.36675384640693665 \n",
      "\tEpoch - 18, Training Loss : 0.29831433296203613 \n",
      "\tEpoch - 19, Training Loss : 0.24459894001483917 \n",
      "\tEpoch - 20, Training Loss : 0.20554624497890472 \n",
      "\n",
      "Fold 10 Classification Report : \n",
      "                precision    recall  f1-score   support\n",
      "\n",
      "    Cloth_Mask       0.25      0.05      0.09        55\n",
      "           N95       0.62      0.19      0.29        27\n",
      "N95_With_Valve       0.55      0.49      0.52        47\n",
      "       No_Mask       0.93      0.35      0.51        37\n",
      "      Surgical       0.26      0.85      0.40        40\n",
      "\n",
      "      accuracy                           0.38       206\n",
      "     macro avg       0.52      0.39      0.36       206\n",
      "  weighted avg       0.49      0.38      0.35       206\n",
      "\n"
     ]
    }
   ],
   "source": [
    "complete_dataset = ImageFolder(root=data_path, transform=transformer)\n",
    "fold_metrics = []\n",
    "kf = KFold(n_splits=folds, shuffle=True)\n",
    "for fold, (train, valid) in enumerate(kf.split(complete_dataset)):\n",
    "    print(f\"Fold {fold + 1} training in progress...\")\n",
    "    train_loader = DataLoader(complete_dataset, batch_size=32, sampler=train)\n",
    "    valid_loader = DataLoader(complete_dataset, batch_size=32, sampler=valid)\n",
    "\n",
    "    model = CNN_New().to(device)\n",
    "    optimizer = optim.Adam(model.parameters(), lr=learning_rate)\n",
    "    loss_func = nn.CrossEntropyLoss()\n",
    "\n",
    "    model.train()\n",
    "    for epoch in tqdm_notebook(range(epochs) , desc = f\"Fold {fold+1}, Epochs Completed : \"):\n",
    "        for i, (batch, labels) in enumerate(train_loader):\n",
    "            outputs = model(batch.to(device))\n",
    "            model.zero_grad()\n",
    "            loss_training = loss_func(outputs, labels.to(device))\n",
    "            loss_training.backward()\n",
    "            optimizer.step()\n",
    "        print(f\"\\tEpoch - {epoch + 1}, Training Loss : {loss_training} \")\n",
    "\n",
    "    model.eval()\n",
    "    correct_labels = []\n",
    "    predicted_labels = []\n",
    "\n",
    "    with torch.no_grad():\n",
    "        for i, (images,labels) in enumerate(valid_loader):\n",
    "            outputs = model(images.to(device))\n",
    "            outputs = torch.argmax(functional.softmax(outputs), dim=1)\n",
    "            if predicted_labels==[]:\n",
    "                correct_labels=labels[:];\n",
    "                predicted_labels = outputs[:]\n",
    "            else:\n",
    "                correct_labels = torch.hstack([correct_labels,labels])\n",
    "                predicted_labels = torch.hstack([predicted_labels,outputs])\n",
    "        accuracy = float((correct_labels == predicted_labels).sum() / len(correct_labels))\n",
    "        precision = precision_score(correct_labels, predicted_labels, average='weighted')\n",
    "        recall = recall_score(correct_labels, predicted_labels, average='weighted')\n",
    "        f1 = f1_score(correct_labels, predicted_labels, average='weighted')\n",
    "        fold_metrics.append((accuracy, precision, recall, f1))\n",
    "\n",
    "        print(f\"\\nFold {fold+1} Classification Report : \")\n",
    "        print(classification_report(correct_labels, predicted_labels,target_names = complete_dataset.classes))"
   ],
   "metadata": {
    "collapsed": false,
    "pycharm": {
     "name": "#%%\n"
    }
   }
  },
  {
   "cell_type": "markdown",
   "source": [
    "<h2>Metrics per K-Fold</h2>"
   ],
   "metadata": {
    "collapsed": false
   }
  },
  {
   "cell_type": "code",
   "execution_count": 40,
   "outputs": [
    {
     "data": {
      "text/plain": "<Figure size 864x576 with 4 Axes>",
      "image/png": "[encoded data removed]"
     },
     "metadata": {
      "needs_background": "light"
     },
     "output_type": "display_data"
    }
   ],
   "source": [
    "metrics = ['Accuracy','Precision','Recall','F1 Score']\n",
    "fold_metrics = torch.tensor(fold_metrics)\n",
    "plt.figure(figsize=(12,8))\n",
    "for i in range(4):\n",
    "    plt.subplot(2,2,i+1)\n",
    "    plt.bar(range(1,folds+1),fold_metrics[:,i],color ='maroon')\n",
    "    plt.xticks(range(folds))\n",
    "    plt.ylabel(metrics[i])\n",
    "    plt.xlabel('folds')"
   ],
   "metadata": {
    "collapsed": false,
    "pycharm": {
     "name": "#%%\n"
    }
   }
  }
 ],
 "metadata": {
  "kernelspec": {
   "display_name": "Python 3",
   "language": "python",
   "name": "python3"
  },
  "language_info": {
   "codemirror_mode": {
    "name": "ipython",
    "version": 2
   },
   "file_extension": ".py",
   "mimetype": "text/x-python",
   "name": "python",
   "nbconvert_exporter": "python",
   "pygments_lexer": "ipython2",
   "version": "2.7.6"
  }
 },
 "nbformat": 4,
 "nbformat_minor": 0
}